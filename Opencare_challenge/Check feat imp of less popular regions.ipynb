{
 "cells": [
  {
   "cell_type": "code",
   "execution_count": 45,
   "metadata": {},
   "outputs": [],
   "source": [
    "import pandas as pd\n",
    "import numpy as np\n",
    "import matplotlib.pyplot as plt\n",
    "%matplotlib inline"
   ]
  },
  {
   "cell_type": "code",
   "execution_count": 3,
   "metadata": {},
   "outputs": [],
   "source": [
    "# Import machine learning modules\n",
    "from sklearn.model_selection import train_test_split\n",
    "from sklearn.linear_model import LogisticRegression\n",
    "from sklearn.naive_bayes import MultinomialNB\n",
    "from sklearn.model_selection import cross_val_score\n",
    "from sklearn.model_selection import GridSearchCV\n",
    "from scipy.stats import randint\n",
    "from sklearn.tree import DecisionTreeClassifier\n",
    "from sklearn.ensemble import RandomForestClassifier\n",
    "from sklearn.datasets import make_classification\n",
    "from sklearn.model_selection import RandomizedSearchCV\n",
    "from sklearn.metrics import classification_report\n",
    "from sklearn.metrics import confusion_matrix"
   ]
  },
  {
   "cell_type": "code",
   "execution_count": 16,
   "metadata": {},
   "outputs": [
    {
     "data": {
      "text/html": [
       "<div>\n",
       "<style scoped>\n",
       "    .dataframe tbody tr th:only-of-type {\n",
       "        vertical-align: middle;\n",
       "    }\n",
       "\n",
       "    .dataframe tbody tr th {\n",
       "        vertical-align: top;\n",
       "    }\n",
       "\n",
       "    .dataframe thead th {\n",
       "        text-align: right;\n",
       "    }\n",
       "</style>\n",
       "<table border=\"1\" class=\"dataframe\">\n",
       "  <thead>\n",
       "    <tr style=\"text-align: right;\">\n",
       "      <th></th>\n",
       "      <th>source</th>\n",
       "      <th>campaign</th>\n",
       "      <th>region</th>\n",
       "      <th>locality</th>\n",
       "      <th>preferred_doctor_gender</th>\n",
       "      <th>dental_anxiety</th>\n",
       "      <th>last_visited_a_dentist</th>\n",
       "      <th>how_soon_they_want_to_book</th>\n",
       "      <th>reason_for_visit</th>\n",
       "      <th>patient_insured</th>\n",
       "      <th>number_of_match_results</th>\n",
       "      <th>out_network_results_shown</th>\n",
       "      <th>in_network_results_shown</th>\n",
       "      <th>avg_distance_overall</th>\n",
       "      <th>appointment_requested</th>\n",
       "      <th>appointment_status</th>\n",
       "      <th>appointment_scheduled</th>\n",
       "      <th>appointment_billed</th>\n",
       "      <th>chosen_provider_insurance_status</th>\n",
       "      <th>chosen_provider_distance</th>\n",
       "    </tr>\n",
       "  </thead>\n",
       "  <tbody>\n",
       "    <tr>\n",
       "      <th>0</th>\n",
       "      <td>facebook</td>\n",
       "      <td>san_diego_dentist_patient_acquisition</td>\n",
       "      <td>San Jose</td>\n",
       "      <td>San Jose</td>\n",
       "      <td>No Pref</td>\n",
       "      <td>A little nervous</td>\n",
       "      <td>&lt; 1 year</td>\n",
       "      <td>ASAP</td>\n",
       "      <td>Specific Treatment</td>\n",
       "      <td>f</td>\n",
       "      <td>9</td>\n",
       "      <td>0</td>\n",
       "      <td>0</td>\n",
       "      <td>10547.219510</td>\n",
       "      <td>f</td>\n",
       "      <td>NaN</td>\n",
       "      <td>f</td>\n",
       "      <td>NaN</td>\n",
       "      <td>NaN</td>\n",
       "      <td>NaN</td>\n",
       "    </tr>\n",
       "    <tr>\n",
       "      <th>1</th>\n",
       "      <td>facebook</td>\n",
       "      <td>san_diego_dentist_patient_acquisition</td>\n",
       "      <td>San Diego</td>\n",
       "      <td>Chula Vista</td>\n",
       "      <td>F</td>\n",
       "      <td>Not at all nervous</td>\n",
       "      <td>2+ years</td>\n",
       "      <td>2 weeks</td>\n",
       "      <td>Checkup &amp; Cleaning</td>\n",
       "      <td>f</td>\n",
       "      <td>2</td>\n",
       "      <td>0</td>\n",
       "      <td>0</td>\n",
       "      <td>20784.617720</td>\n",
       "      <td>f</td>\n",
       "      <td>NaN</td>\n",
       "      <td>f</td>\n",
       "      <td>NaN</td>\n",
       "      <td>NaN</td>\n",
       "      <td>NaN</td>\n",
       "    </tr>\n",
       "    <tr>\n",
       "      <th>2</th>\n",
       "      <td>try.opencare.com</td>\n",
       "      <td>Unknown</td>\n",
       "      <td>Austin</td>\n",
       "      <td>Austin</td>\n",
       "      <td>No Pref</td>\n",
       "      <td>Moderately nervous</td>\n",
       "      <td>2+ years</td>\n",
       "      <td>ASAP</td>\n",
       "      <td>Checkup &amp; Cleaning</td>\n",
       "      <td>t</td>\n",
       "      <td>9</td>\n",
       "      <td>8</td>\n",
       "      <td>1</td>\n",
       "      <td>8014.945931</td>\n",
       "      <td>t</td>\n",
       "      <td>CANCELLED</td>\n",
       "      <td>f</td>\n",
       "      <td>f</td>\n",
       "      <td>in-network</td>\n",
       "      <td>2855.594821</td>\n",
       "    </tr>\n",
       "    <tr>\n",
       "      <th>3</th>\n",
       "      <td>facebook</td>\n",
       "      <td>denver_dentist_patient_acquisition</td>\n",
       "      <td>Denver</td>\n",
       "      <td>Golden</td>\n",
       "      <td>No Pref</td>\n",
       "      <td>Not at all nervous</td>\n",
       "      <td>&lt; 1 year</td>\n",
       "      <td>ASAP</td>\n",
       "      <td>Specific Treatment</td>\n",
       "      <td>t</td>\n",
       "      <td>8</td>\n",
       "      <td>2</td>\n",
       "      <td>6</td>\n",
       "      <td>16651.158750</td>\n",
       "      <td>f</td>\n",
       "      <td>NaN</td>\n",
       "      <td>f</td>\n",
       "      <td>NaN</td>\n",
       "      <td>NaN</td>\n",
       "      <td>NaN</td>\n",
       "    </tr>\n",
       "    <tr>\n",
       "      <th>4</th>\n",
       "      <td>facebook</td>\n",
       "      <td>chicago_dentist_patient_acquisition</td>\n",
       "      <td>Chicago</td>\n",
       "      <td>Chicago</td>\n",
       "      <td>F</td>\n",
       "      <td>Not at all nervous</td>\n",
       "      <td>&lt; 1 year</td>\n",
       "      <td>1 week</td>\n",
       "      <td>Checkup &amp; Cleaning</td>\n",
       "      <td>f</td>\n",
       "      <td>9</td>\n",
       "      <td>0</td>\n",
       "      <td>0</td>\n",
       "      <td>5216.934559</td>\n",
       "      <td>f</td>\n",
       "      <td>NaN</td>\n",
       "      <td>f</td>\n",
       "      <td>NaN</td>\n",
       "      <td>NaN</td>\n",
       "      <td>NaN</td>\n",
       "    </tr>\n",
       "  </tbody>\n",
       "</table>\n",
       "</div>"
      ],
      "text/plain": [
       "             source                               campaign     region  \\\n",
       "0          facebook  san_diego_dentist_patient_acquisition   San Jose   \n",
       "1          facebook  san_diego_dentist_patient_acquisition  San Diego   \n",
       "2  try.opencare.com                                Unknown     Austin   \n",
       "3          facebook     denver_dentist_patient_acquisition     Denver   \n",
       "4          facebook    chicago_dentist_patient_acquisition    Chicago   \n",
       "\n",
       "      locality preferred_doctor_gender      dental_anxiety  \\\n",
       "0     San Jose                 No Pref    A little nervous   \n",
       "1  Chula Vista                       F  Not at all nervous   \n",
       "2       Austin                 No Pref  Moderately nervous   \n",
       "3       Golden                 No Pref  Not at all nervous   \n",
       "4      Chicago                       F  Not at all nervous   \n",
       "\n",
       "  last_visited_a_dentist how_soon_they_want_to_book    reason_for_visit  \\\n",
       "0               < 1 year                       ASAP  Specific Treatment   \n",
       "1               2+ years                    2 weeks  Checkup & Cleaning   \n",
       "2               2+ years                       ASAP  Checkup & Cleaning   \n",
       "3               < 1 year                       ASAP  Specific Treatment   \n",
       "4               < 1 year                     1 week  Checkup & Cleaning   \n",
       "\n",
       "  patient_insured  number_of_match_results  out_network_results_shown  \\\n",
       "0               f                        9                          0   \n",
       "1               f                        2                          0   \n",
       "2               t                        9                          8   \n",
       "3               t                        8                          2   \n",
       "4               f                        9                          0   \n",
       "\n",
       "   in_network_results_shown  avg_distance_overall appointment_requested  \\\n",
       "0                         0          10547.219510                     f   \n",
       "1                         0          20784.617720                     f   \n",
       "2                         1           8014.945931                     t   \n",
       "3                         6          16651.158750                     f   \n",
       "4                         0           5216.934559                     f   \n",
       "\n",
       "  appointment_status appointment_scheduled appointment_billed  \\\n",
       "0                NaN                     f                NaN   \n",
       "1                NaN                     f                NaN   \n",
       "2          CANCELLED                     f                  f   \n",
       "3                NaN                     f                NaN   \n",
       "4                NaN                     f                NaN   \n",
       "\n",
       "  chosen_provider_insurance_status  chosen_provider_distance  \n",
       "0                              NaN                       NaN  \n",
       "1                              NaN                       NaN  \n",
       "2                       in-network               2855.594821  \n",
       "3                              NaN                       NaN  \n",
       "4                              NaN                       NaN  "
      ]
     },
     "execution_count": 16,
     "metadata": {},
     "output_type": "execute_result"
    }
   ],
   "source": [
    "data = pd.read_csv('DS-Take-Home-Sample-Data - DS-Take-Home-Sample-Data.csv')\n",
    "data.head()"
   ]
  },
  {
   "cell_type": "code",
   "execution_count": 17,
   "metadata": {},
   "outputs": [],
   "source": [
    "success = []\n",
    "for i in range(len(data)):\n",
    "    if (data['appointment_requested'][i] == 't') & (data['appointment_scheduled'][i] == 't') & (data['appointment_billed'][i] == 't'):\n",
    "        success.append(1)\n",
    "    else:\n",
    "        success.append(0)"
   ]
  },
  {
   "cell_type": "code",
   "execution_count": 18,
   "metadata": {},
   "outputs": [],
   "source": [
    "data['success'] = success"
   ]
  },
  {
   "cell_type": "code",
   "execution_count": 46,
   "metadata": {},
   "outputs": [],
   "source": [
    "other = data[(data.locality != 'Chicago') & (data.locality != 'San Francisco') & (data.locality != 'Seattle')]"
   ]
  },
  {
   "cell_type": "code",
   "execution_count": 49,
   "metadata": {},
   "outputs": [
    {
     "data": {
      "text/plain": [
       "0.07586558044806517"
      ]
     },
     "execution_count": 49,
     "metadata": {},
     "output_type": "execute_result"
    }
   ],
   "source": [
    "other.success.sum()/len(other)"
   ]
  },
  {
   "cell_type": "code",
   "execution_count": 48,
   "metadata": {},
   "outputs": [
    {
     "data": {
      "text/plain": [
       "7856"
      ]
     },
     "execution_count": 48,
     "metadata": {},
     "output_type": "execute_result"
    }
   ],
   "source": [
    "len(other)"
   ]
  },
  {
   "cell_type": "code",
   "execution_count": 51,
   "metadata": {},
   "outputs": [],
   "source": [
    "other = other.fillna(0)"
   ]
  },
  {
   "cell_type": "code",
   "execution_count": 52,
   "metadata": {},
   "outputs": [
    {
     "data": {
      "text/plain": [
       "['source',\n",
       " 'campaign',\n",
       " 'region',\n",
       " 'locality',\n",
       " 'preferred_doctor_gender',\n",
       " 'dental_anxiety',\n",
       " 'last_visited_a_dentist',\n",
       " 'how_soon_they_want_to_book',\n",
       " 'reason_for_visit',\n",
       " 'patient_insured',\n",
       " 'appointment_requested',\n",
       " 'appointment_status',\n",
       " 'appointment_scheduled',\n",
       " 'appointment_billed',\n",
       " 'chosen_provider_insurance_status']"
      ]
     },
     "execution_count": 52,
     "metadata": {},
     "output_type": "execute_result"
    }
   ],
   "source": [
    "cat_features = list(other.columns[data.dtypes == 'object'])\n",
    "cat_features"
   ]
  },
  {
   "cell_type": "code",
   "execution_count": 53,
   "metadata": {},
   "outputs": [],
   "source": [
    "cat_dict = {}\n",
    "\n",
    "for col in cat_features:\n",
    "    cat_dict[col] = {}\n",
    "    count = 0\n",
    "    for label in list(other[col].unique()):\n",
    "        cat_dict[col][label] = count\n",
    "        count += 1\n",
    "    \n",
    "def convert_cat(col, label):\n",
    "    return (cat_dict[col][label])\n",
    "\n",
    "for col in cat_features:\n",
    "    other[col] = other[col].apply(lambda x: convert_cat(col,x))"
   ]
  },
  {
   "cell_type": "code",
   "execution_count": 54,
   "metadata": {},
   "outputs": [],
   "source": [
    "X = other[['source', 'campaign', 'region', 'locality', 'preferred_doctor_gender',\n",
    "       'dental_anxiety', 'last_visited_a_dentist',\n",
    "       'how_soon_they_want_to_book', 'reason_for_visit', 'patient_insured',\n",
    "       'number_of_match_results', 'out_network_results_shown',\n",
    "       'in_network_results_shown', 'avg_distance_overall']]\n",
    "y = other['success']"
   ]
  },
  {
   "cell_type": "code",
   "execution_count": 26,
   "metadata": {},
   "outputs": [],
   "source": [
    "from sklearn.linear_model import (LinearRegression, Ridge, \n",
    "                                  Lasso, RandomizedLasso)\n",
    "from sklearn.feature_selection import RFE, f_regression\n",
    "from sklearn.preprocessing import MinMaxScaler\n",
    "from sklearn.ensemble import RandomForestRegressor\n",
    "import numpy as np"
   ]
  },
  {
   "cell_type": "code",
   "execution_count": 27,
   "metadata": {},
   "outputs": [],
   "source": [
    "# Create function to return the results of machine learning tests\n",
    "def ml_classification_tests(X, y, num_cols=X.shape[1]):\n",
    "    \n",
    "    # Split into training and test set\n",
    "    X_train, X_test, y_train, y_test = train_test_split(X, y)\n",
    "    \n",
    "    #------------------------------------------------------------------------\n",
    "    \n",
    "    # NAIVE BAYES\n",
    "    print('Naive Bayes')\n",
    "    \n",
    "    #the grid of parameters to search over\n",
    "    alphas = [0.001, 0.01, .1, 1, 5]\n",
    "    \n",
    "    param_grid = {'alpha': alphas}\n",
    "    \n",
    "    # Create a multinomial classifier\n",
    "    mnb = MultinomialNB()\n",
    "    \n",
    "    mnb_cv = GridSearchCV(mnb, param_grid, cv=5)\n",
    "    \n",
    "    # Fit the classifier to the data\n",
    "    mnb_cv.fit(X_train, y_train)\n",
    "    \n",
    "    # Print the tuned parameters and score\n",
    "    print(\"Best Naive Bayes alpha: {}\".format(mnb_cv.best_params_)) \n",
    "    print(\"Best Naive Bayes score: {}\".format(mnb_cv.best_score_))\n",
    "    \n",
    "    # Predict the labels of the test set: y_pred\n",
    "    y_pred = mnb_cv.predict(X_test)\n",
    "\n",
    "    # Compute and print the confusion matrix and classification report\n",
    "    print('Confusion Matrix:', confusion_matrix(y_test, y_pred))\n",
    "    print('Classification Report:', classification_report(y_test, y_pred))\n",
    "    \n",
    "    #------------------------------------------------------------------------\n",
    "    \n",
    "    # RANDOM FORESTS\n",
    "    print('\\nRandom Forests')\n",
    "    \n",
    "    # Number of features to consider at every split\n",
    "    max_features = [1, 2, 3, 4, 5]\n",
    "    # Maximum number of levels in tree\n",
    "    max_depth = [int(x) for x in np.linspace(10, 100, num = 10)]\n",
    "    max_depth.append(None)\n",
    "    # Minimum number of samples required to split a node\n",
    "    min_samples_split = [2, 5, 10]\n",
    "    # Minimum number of samples required at each leaf node\n",
    "    min_samples_leaf = [1, 2, 4, 6, 9]\n",
    "    # Method of selecting samples for training each tree\n",
    "    bootstrap = [True, False]\n",
    "    # Create the random grid\n",
    "    random_grid = {'max_features': max_features,\n",
    "               'max_depth': max_depth,\n",
    "               'min_samples_split': min_samples_split,\n",
    "               'min_samples_leaf': min_samples_leaf,\n",
    "               'bootstrap': bootstrap}    \n",
    "    \n",
    "    # Instantiate a Random Forest Classifier\n",
    "    rfc = RandomForestClassifier(n_estimators=250)\n",
    "    \n",
    "    # Instantiate RandomizedSearchCV\n",
    "    rf_random = RandomizedSearchCV(estimator = rfc, param_distributions = random_grid, cv = 5, n_jobs = -1, n_iter=12)\n",
    "    \n",
    "    # Fit the random search model\n",
    "    rf_random.fit(X_train, y_train)\n",
    "    \n",
    "    # Print the tuned parameters and score\n",
    "    print(\"Tuned Random Forest Parameters: {}\".format(rf_random.best_params_))\n",
    "    print(\"Best Random Forest score: {}\".format(rf_random.best_score_))\n",
    "    \n",
    "    # Predict the labels of the test set: y_pred\n",
    "    y_pred = rf_random.predict(X_test)\n",
    "\n",
    "    # Compute and print the confusion matrix and classification report\n",
    "    print('Confusion Matrix:', confusion_matrix(y_test, y_pred))\n",
    "    print('Classification Report:', classification_report(y_test, y_pred))\n",
    "\n",
    "    #------------------------------------------------------------------------\n",
    "    "
   ]
  },
  {
   "cell_type": "code",
   "execution_count": 55,
   "metadata": {},
   "outputs": [
    {
     "name": "stdout",
     "output_type": "stream",
     "text": [
      "[(0, 7260), (1, 7260)]\n"
     ]
    }
   ],
   "source": [
    "import imblearn\n",
    "from sklearn.datasets import make_classification\n",
    "from imblearn.over_sampling import RandomOverSampler\n",
    "from collections import Counter\n",
    "\n",
    "ros = RandomOverSampler(random_state=0)\n",
    "X_resampled, y_resampled = ros.fit_sample(X,y)\n",
    "print(sorted(Counter(y_resampled).items()))"
   ]
  },
  {
   "cell_type": "code",
   "execution_count": 56,
   "metadata": {},
   "outputs": [
    {
     "name": "stdout",
     "output_type": "stream",
     "text": [
      "Naive Bayes\n",
      "Best Naive Bayes alpha: {'alpha': 0.001}\n",
      "Best Naive Bayes score: 0.5569329660238751\n",
      "Confusion Matrix: [[ 575 1253]\n",
      " [ 338 1464]]\n",
      "Classification Report:               precision    recall  f1-score   support\n",
      "\n",
      "           0       0.63      0.31      0.42      1828\n",
      "           1       0.54      0.81      0.65      1802\n",
      "\n",
      "   micro avg       0.56      0.56      0.56      3630\n",
      "   macro avg       0.58      0.56      0.53      3630\n",
      "weighted avg       0.58      0.56      0.53      3630\n",
      "\n",
      "\n",
      "Random Forests\n",
      "Tuned Random Forest Parameters: {'min_samples_split': 5, 'min_samples_leaf': 1, 'max_features': 1, 'max_depth': 80, 'bootstrap': False}\n",
      "Best Random Forest score: 0.9884297520661157\n",
      "Confusion Matrix: [[1802   26]\n",
      " [   0 1802]]\n",
      "Classification Report:               precision    recall  f1-score   support\n",
      "\n",
      "           0       1.00      0.99      0.99      1828\n",
      "           1       0.99      1.00      0.99      1802\n",
      "\n",
      "   micro avg       0.99      0.99      0.99      3630\n",
      "   macro avg       0.99      0.99      0.99      3630\n",
      "weighted avg       0.99      0.99      0.99      3630\n",
      "\n"
     ]
    }
   ],
   "source": [
    "ml_classification_tests(X_resampled, y_resampled)"
   ]
  },
  {
   "cell_type": "code",
   "execution_count": 57,
   "metadata": {},
   "outputs": [
    {
     "name": "stdout",
     "output_type": "stream",
     "text": [
      "Features sorted by their rank:\n",
      "[(1, 'avg_distance_overall'), (2, 'in_network_results_shown'), (3, 'locality'), (4, 'campaign'), (5, 'out_network_results_shown'), (6, 'how_soon_they_want_to_book'), (7, 'dental_anxiety'), (8, 'source'), (9, 'number_of_match_results'), (10, 'last_visited_a_dentist'), (11, 'region'), (12, 'patient_insured'), (13, 'reason_for_visit'), (14, 'preferred_doctor_gender')]\n"
     ]
    }
   ],
   "source": [
    "names = X.keys()\n",
    " \n",
    "#use linear regression as the model\n",
    "rfc = RandomForestClassifier(n_estimators=250,\n",
    "                            min_samples_split = 2,\n",
    "                            min_samples_leaf = 1,\n",
    "                            max_features = 0.5,\n",
    "                            max_depth = 70,\n",
    "                            bootstrap = True)\n",
    "#rank all features, i.e continue the elimination until the last one\n",
    "rfe = RFE(rfc, n_features_to_select=1)\n",
    "rfe.fit(X_resampled,y_resampled)\n",
    " \n",
    "print (\"Features sorted by their rank:\")\n",
    "print (sorted(zip(map(lambda x: round(x, 4), rfe.ranking_), names)))"
   ]
  },
  {
   "cell_type": "code",
   "execution_count": 34,
   "metadata": {},
   "outputs": [
    {
     "data": {
      "text/plain": [
       "count     11923\n",
       "unique        5\n",
       "top        ASAP\n",
       "freq       3833\n",
       "Name: how_soon_they_want_to_book, dtype: object"
      ]
     },
     "execution_count": 34,
     "metadata": {},
     "output_type": "execute_result"
    }
   ],
   "source": [
    "data.how_soon_they_want_to_book.describe()"
   ]
  },
  {
   "cell_type": "code",
   "execution_count": 35,
   "metadata": {},
   "outputs": [
    {
     "data": {
      "text/plain": [
       "count    1667.000000\n",
       "mean        2.194361\n",
       "std         1.260973\n",
       "min         0.000000\n",
       "25%         1.000000\n",
       "50%         3.000000\n",
       "75%         3.000000\n",
       "max         5.000000\n",
       "Name: how_soon_they_want_to_book, dtype: float64"
      ]
     },
     "execution_count": 35,
     "metadata": {},
     "output_type": "execute_result"
    }
   ],
   "source": [
    "chi.how_soon_they_want_to_book.describe()"
   ]
  },
  {
   "cell_type": "code",
   "execution_count": 36,
   "metadata": {},
   "outputs": [],
   "source": [
    "chii = data[data.locality == 'Chicago']"
   ]
  },
  {
   "cell_type": "code",
   "execution_count": 44,
   "metadata": {},
   "outputs": [
    {
     "data": {
      "text/plain": [
       "<matplotlib.axes._subplots.AxesSubplot at 0x7f95f2b9fef0>"
      ]
     },
     "execution_count": 44,
     "metadata": {},
     "output_type": "execute_result"
    },
    {
     "data": {
      "image/png": "[encoded data removed]",
      "text/plain": [
       "<Figure size 432x288 with 1 Axes>"
      ]
     },
     "metadata": {
      "needs_background": "light"
     },
     "output_type": "display_data"
    }
   ],
   "source": [
    "chii.groupby(['how_soon_they_want_to_book'])['success'].sum().plot(kind = 'bar')"
   ]
  },
  {
   "cell_type": "code",
   "execution_count": null,
   "metadata": {},
   "outputs": [],
   "source": [
    "## we know that in Chicago, the most important features are still avg overall distance, \n",
    "## and in-network results shown.\n",
    "## we also know that most successful appointments are those th"
   ]
  }
 ],
 "metadata": {
  "kernelspec": {
   "display_name": "Python 3",
   "language": "python",
   "name": "python3"
  },
  "language_info": {
   "codemirror_mode": {
    "name": "ipython",
    "version": 3
   },
   "file_extension": ".py",
   "mimetype": "text/x-python",
   "name": "python",
   "nbconvert_exporter": "python",
   "pygments_lexer": "ipython3",
   "version": "3.7.0"
  }
 },
 "nbformat": 4,
 "nbformat_minor": 2
}
