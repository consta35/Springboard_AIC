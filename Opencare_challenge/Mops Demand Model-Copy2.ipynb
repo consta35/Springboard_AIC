{
 "cells": [
  {
   "cell_type": "code",
   "execution_count": 178,
   "metadata": {
    "collapsed": true
   },
   "outputs": [],
   "source": [
    "import pandas as pd\n",
    "from tqdm import tqdm\n",
    "import numpy as np\n",
    "%matplotlib inline  \n",
    "import featuretools as ft\n",
    "#import pandas_profiling"
   ]
  },
  {
   "cell_type": "code",
   "execution_count": 179,
   "metadata": {
    "collapsed": true
   },
   "outputs": [],
   "source": [
    "#read in weekly data\n",
    "df_main = pd.read_csv('C:/Users/andrea.constantinof/Documents/ISS/Mops/data/mops_wk_2016_2017.csv')"
   ]
  },
  {
   "cell_type": "markdown",
   "metadata": {},
   "source": [
    "## Add sales type features"
   ]
  },
  {
   "cell_type": "code",
   "execution_count": 180,
   "metadata": {
    "collapsed": true
   },
   "outputs": [],
   "source": [
    "data = pd.read_csv('C:\\\\Users\\\\andrea.constantinof\\\\Documents\\\\ISS\\\\Mops\\\\data\\\\2018.05.24 - Reg POS Data MOPS Extract.csv')"
   ]
  },
  {
   "cell_type": "code",
   "execution_count": 181,
   "metadata": {
    "collapsed": true
   },
   "outputs": [],
   "source": [
    "pnumtoid = pd.read_csv('C:\\\\Users\\\\andrea.constantinof\\\\Documents\\\\ISS\\\\Mops\\\\data\\\\mops_pnumtoid.csv')"
   ]
  },
  {
   "cell_type": "code",
   "execution_count": 182,
   "metadata": {
    "collapsed": true
   },
   "outputs": [],
   "source": [
    " df_main_id = pd.merge(df_main, pnumtoid, on = ['PRODUCT_ID'], how = 'left')"
   ]
  },
  {
   "cell_type": "code",
   "execution_count": 183,
   "metadata": {
    "collapsed": true
   },
   "outputs": [],
   "source": [
    "df_feat = pd.read_csv('C:/Users/andrea.constantinof/Documents/ISS/Mops/data/mops_SaleType_feat.csv')"
   ]
  },
  {
   "cell_type": "code",
   "execution_count": 184,
   "metadata": {},
   "outputs": [
    {
     "data": {
      "text/html": [
       "<div>\n",
       "<style>\n",
       "    .dataframe thead tr:only-child th {\n",
       "        text-align: right;\n",
       "    }\n",
       "\n",
       "    .dataframe thead th {\n",
       "        text-align: left;\n",
       "    }\n",
       "\n",
       "    .dataframe tbody tr th {\n",
       "        vertical-align: top;\n",
       "    }\n",
       "</style>\n",
       "<table border=\"1\" class=\"dataframe\">\n",
       "  <thead>\n",
       "    <tr style=\"text-align: right;\">\n",
       "      <th></th>\n",
       "      <th>STORE_ID</th>\n",
       "      <th>PRODUCT_ID</th>\n",
       "      <th>CLNDR_MTH_NUM</th>\n",
       "      <th>C445_WK_NUM</th>\n",
       "      <th>C445_YR_NUM</th>\n",
       "      <th>CLEARANCE_IND</th>\n",
       "      <th>INSTORE_IND</th>\n",
       "      <th>PROMO_IND</th>\n",
       "      <th>REGULAR_IND</th>\n",
       "      <th>OTHER_IND</th>\n",
       "      <th>REGULAR_PROMO_IND</th>\n",
       "    </tr>\n",
       "  </thead>\n",
       "  <tbody>\n",
       "    <tr>\n",
       "      <th>0</th>\n",
       "      <td>28040</td>\n",
       "      <td>1597047</td>\n",
       "      <td>2</td>\n",
       "      <td>7</td>\n",
       "      <td>2016</td>\n",
       "      <td>0.0</td>\n",
       "      <td>0.0</td>\n",
       "      <td>0.0</td>\n",
       "      <td>4.0</td>\n",
       "      <td>0.0</td>\n",
       "      <td>4.0</td>\n",
       "    </tr>\n",
       "    <tr>\n",
       "      <th>1</th>\n",
       "      <td>29043</td>\n",
       "      <td>1596749</td>\n",
       "      <td>2</td>\n",
       "      <td>7</td>\n",
       "      <td>2016</td>\n",
       "      <td>0.0</td>\n",
       "      <td>0.0</td>\n",
       "      <td>0.0</td>\n",
       "      <td>7.0</td>\n",
       "      <td>0.0</td>\n",
       "      <td>7.0</td>\n",
       "    </tr>\n",
       "    <tr>\n",
       "      <th>2</th>\n",
       "      <td>30014</td>\n",
       "      <td>28942010</td>\n",
       "      <td>2</td>\n",
       "      <td>7</td>\n",
       "      <td>2016</td>\n",
       "      <td>0.0</td>\n",
       "      <td>0.0</td>\n",
       "      <td>0.0</td>\n",
       "      <td>1.0</td>\n",
       "      <td>0.0</td>\n",
       "      <td>1.0</td>\n",
       "    </tr>\n",
       "    <tr>\n",
       "      <th>3</th>\n",
       "      <td>28072</td>\n",
       "      <td>1595962</td>\n",
       "      <td>2</td>\n",
       "      <td>7</td>\n",
       "      <td>2016</td>\n",
       "      <td>0.0</td>\n",
       "      <td>0.0</td>\n",
       "      <td>0.0</td>\n",
       "      <td>1.0</td>\n",
       "      <td>0.0</td>\n",
       "      <td>1.0</td>\n",
       "    </tr>\n",
       "    <tr>\n",
       "      <th>4</th>\n",
       "      <td>29044</td>\n",
       "      <td>1823181</td>\n",
       "      <td>2</td>\n",
       "      <td>6</td>\n",
       "      <td>2016</td>\n",
       "      <td>0.0</td>\n",
       "      <td>0.0</td>\n",
       "      <td>0.0</td>\n",
       "      <td>1.0</td>\n",
       "      <td>0.0</td>\n",
       "      <td>1.0</td>\n",
       "    </tr>\n",
       "  </tbody>\n",
       "</table>\n",
       "</div>"
      ],
      "text/plain": [
       "   STORE_ID  PRODUCT_ID  CLNDR_MTH_NUM  C445_WK_NUM  C445_YR_NUM  \\\n",
       "0     28040     1597047              2            7         2016   \n",
       "1     29043     1596749              2            7         2016   \n",
       "2     30014    28942010              2            7         2016   \n",
       "3     28072     1595962              2            7         2016   \n",
       "4     29044     1823181              2            6         2016   \n",
       "\n",
       "   CLEARANCE_IND  INSTORE_IND  PROMO_IND  REGULAR_IND  OTHER_IND  \\\n",
       "0            0.0          0.0        0.0          4.0        0.0   \n",
       "1            0.0          0.0        0.0          7.0        0.0   \n",
       "2            0.0          0.0        0.0          1.0        0.0   \n",
       "3            0.0          0.0        0.0          1.0        0.0   \n",
       "4            0.0          0.0        0.0          1.0        0.0   \n",
       "\n",
       "   REGULAR_PROMO_IND  \n",
       "0                4.0  \n",
       "1                7.0  \n",
       "2                1.0  \n",
       "3                1.0  \n",
       "4                1.0  "
      ]
     },
     "execution_count": 184,
     "metadata": {},
     "output_type": "execute_result"
    }
   ],
   "source": [
    "df_feat.head()"
   ]
  },
  {
   "cell_type": "code",
   "execution_count": 185,
   "metadata": {
    "collapsed": true
   },
   "outputs": [],
   "source": [
    "df_main = pd.merge(df_main_id, df_feat, on = ['STORE_ID','PRODUCT_ID','CLNDR_MTH_NUM','C445_WK_NUM','C445_YR_NUM'], how = 'inner')"
   ]
  },
  {
   "cell_type": "code",
   "execution_count": 186,
   "metadata": {
    "collapsed": true
   },
   "outputs": [],
   "source": [
    "df_main = pd.merge(df_main, data, on = ['PRODUCT_NUM', 'C445_WK_NUM', 'C445_YR_NUM'], how = 'left')"
   ]
  },
  {
   "cell_type": "code",
   "execution_count": 187,
   "metadata": {},
   "outputs": [
    {
     "data": {
      "text/html": [
       "<div>\n",
       "<style>\n",
       "    .dataframe thead tr:only-child th {\n",
       "        text-align: right;\n",
       "    }\n",
       "\n",
       "    .dataframe thead th {\n",
       "        text-align: left;\n",
       "    }\n",
       "\n",
       "    .dataframe tbody tr th {\n",
       "        vertical-align: top;\n",
       "    }\n",
       "</style>\n",
       "<table border=\"1\" class=\"dataframe\">\n",
       "  <thead>\n",
       "    <tr style=\"text-align: right;\">\n",
       "      <th></th>\n",
       "      <th>CLNDR_MTH_NUM</th>\n",
       "      <th>C445_WK_NUM</th>\n",
       "      <th>C445_YR_NUM</th>\n",
       "      <th>STORE_ID</th>\n",
       "      <th>PRODUCT_ID</th>\n",
       "      <th>FINELINE_NM</th>\n",
       "      <th>BRAND_NM</th>\n",
       "      <th>ITEM_ACTUAL_SELLING_PRICE_AMT</th>\n",
       "      <th>QTY_SOLD</th>\n",
       "      <th>PRODUCT_NUM</th>\n",
       "      <th>...</th>\n",
       "      <th>TPvLP_R52_AVG_RTL_INV</th>\n",
       "      <th>R52_AVG_RTL_INV_DOLLARS</th>\n",
       "      <th>LP_R52_AVG_RTL_INV_DOLLARS</th>\n",
       "      <th>TPvLP_R52_AVG_RTL_INV_DOLLARS</th>\n",
       "      <th>R52_POS_UNIT_GROSS</th>\n",
       "      <th>LP_R52_POS_UNIT_GROSS</th>\n",
       "      <th>TPvLP_R52_POS_UNIT_GROSS</th>\n",
       "      <th>R52_POS_DOLLAR_GROSS</th>\n",
       "      <th>LP_R52_POS_DOLLAR_GROSS</th>\n",
       "      <th>TPvLP_R52_POS_DOLLAR_GROSS</th>\n",
       "    </tr>\n",
       "  </thead>\n",
       "  <tbody>\n",
       "    <tr>\n",
       "      <th>0</th>\n",
       "      <td>2</td>\n",
       "      <td>6</td>\n",
       "      <td>2016</td>\n",
       "      <td>28081</td>\n",
       "      <td>1501077005</td>\n",
       "      <td>Quick Clean Mop Refills</td>\n",
       "      <td>FRANK</td>\n",
       "      <td>4.99</td>\n",
       "      <td>1.0</td>\n",
       "      <td>1421646</td>\n",
       "      <td>...</td>\n",
       "      <td>0.000000</td>\n",
       "      <td>0.000000</td>\n",
       "      <td>0.000000</td>\n",
       "      <td>0.000000</td>\n",
       "      <td>0</td>\n",
       "      <td>0</td>\n",
       "      <td>0.000000</td>\n",
       "      <td>0.00</td>\n",
       "      <td>0.00</td>\n",
       "      <td>0.000000</td>\n",
       "    </tr>\n",
       "    <tr>\n",
       "      <th>1</th>\n",
       "      <td>2</td>\n",
       "      <td>6</td>\n",
       "      <td>2016</td>\n",
       "      <td>30058</td>\n",
       "      <td>113595066</td>\n",
       "      <td>Mops</td>\n",
       "      <td>FRANK</td>\n",
       "      <td>19.99</td>\n",
       "      <td>1.0</td>\n",
       "      <td>1421573</td>\n",
       "      <td>...</td>\n",
       "      <td>0.000000</td>\n",
       "      <td>33921.768462</td>\n",
       "      <td>0.000000</td>\n",
       "      <td>0.000000</td>\n",
       "      <td>6464</td>\n",
       "      <td>0</td>\n",
       "      <td>0.000000</td>\n",
       "      <td>126988.74</td>\n",
       "      <td>0.00</td>\n",
       "      <td>0.000000</td>\n",
       "    </tr>\n",
       "    <tr>\n",
       "      <th>2</th>\n",
       "      <td>2</td>\n",
       "      <td>6</td>\n",
       "      <td>2016</td>\n",
       "      <td>30042</td>\n",
       "      <td>1597029</td>\n",
       "      <td>Mops</td>\n",
       "      <td>NATIONAL, VENDOR BRAND</td>\n",
       "      <td>9.99</td>\n",
       "      <td>6.0</td>\n",
       "      <td>429543</td>\n",
       "      <td>...</td>\n",
       "      <td>0.840632</td>\n",
       "      <td>70493.780000</td>\n",
       "      <td>84708.742500</td>\n",
       "      <td>0.832190</td>\n",
       "      <td>43726</td>\n",
       "      <td>38986</td>\n",
       "      <td>1.121582</td>\n",
       "      <td>424603.68</td>\n",
       "      <td>385516.45</td>\n",
       "      <td>1.101389</td>\n",
       "    </tr>\n",
       "    <tr>\n",
       "      <th>3</th>\n",
       "      <td>2</td>\n",
       "      <td>7</td>\n",
       "      <td>2016</td>\n",
       "      <td>30067</td>\n",
       "      <td>1596961</td>\n",
       "      <td>Mops</td>\n",
       "      <td>FRANK</td>\n",
       "      <td>11.05</td>\n",
       "      <td>3.0</td>\n",
       "      <td>429475</td>\n",
       "      <td>...</td>\n",
       "      <td>1.020987</td>\n",
       "      <td>59455.563077</td>\n",
       "      <td>52665.852308</td>\n",
       "      <td>1.128921</td>\n",
       "      <td>18529</td>\n",
       "      <td>24121</td>\n",
       "      <td>0.768169</td>\n",
       "      <td>312373.26</td>\n",
       "      <td>358418.08</td>\n",
       "      <td>0.871533</td>\n",
       "    </tr>\n",
       "    <tr>\n",
       "      <th>4</th>\n",
       "      <td>2</td>\n",
       "      <td>7</td>\n",
       "      <td>2016</td>\n",
       "      <td>30268</td>\n",
       "      <td>1595325</td>\n",
       "      <td>Quick Clean Mop Refills</td>\n",
       "      <td>NATIONAL, VENDOR BRAND</td>\n",
       "      <td>12.59</td>\n",
       "      <td>2.0</td>\n",
       "      <td>427681</td>\n",
       "      <td>...</td>\n",
       "      <td>1.029241</td>\n",
       "      <td>61685.755192</td>\n",
       "      <td>60872.131154</td>\n",
       "      <td>1.013366</td>\n",
       "      <td>21257</td>\n",
       "      <td>19014</td>\n",
       "      <td>1.117966</td>\n",
       "      <td>298537.96</td>\n",
       "      <td>275276.76</td>\n",
       "      <td>1.084501</td>\n",
       "    </tr>\n",
       "  </tbody>\n",
       "</table>\n",
       "<p>5 rows × 88 columns</p>\n",
       "</div>"
      ],
      "text/plain": [
       "   CLNDR_MTH_NUM  C445_WK_NUM  C445_YR_NUM  STORE_ID  PRODUCT_ID  \\\n",
       "0              2            6         2016     28081  1501077005   \n",
       "1              2            6         2016     30058   113595066   \n",
       "2              2            6         2016     30042     1597029   \n",
       "3              2            7         2016     30067     1596961   \n",
       "4              2            7         2016     30268     1595325   \n",
       "\n",
       "               FINELINE_NM                BRAND_NM  \\\n",
       "0  Quick Clean Mop Refills                   FRANK   \n",
       "1                     Mops                   FRANK   \n",
       "2                     Mops  NATIONAL, VENDOR BRAND   \n",
       "3                     Mops                   FRANK   \n",
       "4  Quick Clean Mop Refills  NATIONAL, VENDOR BRAND   \n",
       "\n",
       "   ITEM_ACTUAL_SELLING_PRICE_AMT  QTY_SOLD  PRODUCT_NUM  \\\n",
       "0                           4.99       1.0      1421646   \n",
       "1                          19.99       1.0      1421573   \n",
       "2                           9.99       6.0       429543   \n",
       "3                          11.05       3.0       429475   \n",
       "4                          12.59       2.0       427681   \n",
       "\n",
       "              ...              TPvLP_R52_AVG_RTL_INV  R52_AVG_RTL_INV_DOLLARS  \\\n",
       "0             ...                           0.000000                 0.000000   \n",
       "1             ...                           0.000000             33921.768462   \n",
       "2             ...                           0.840632             70493.780000   \n",
       "3             ...                           1.020987             59455.563077   \n",
       "4             ...                           1.029241             61685.755192   \n",
       "\n",
       "   LP_R52_AVG_RTL_INV_DOLLARS  TPvLP_R52_AVG_RTL_INV_DOLLARS  \\\n",
       "0                    0.000000                       0.000000   \n",
       "1                    0.000000                       0.000000   \n",
       "2                84708.742500                       0.832190   \n",
       "3                52665.852308                       1.128921   \n",
       "4                60872.131154                       1.013366   \n",
       "\n",
       "   R52_POS_UNIT_GROSS  LP_R52_POS_UNIT_GROSS  TPvLP_R52_POS_UNIT_GROSS  \\\n",
       "0                   0                      0                  0.000000   \n",
       "1                6464                      0                  0.000000   \n",
       "2               43726                  38986                  1.121582   \n",
       "3               18529                  24121                  0.768169   \n",
       "4               21257                  19014                  1.117966   \n",
       "\n",
       "  R52_POS_DOLLAR_GROSS  LP_R52_POS_DOLLAR_GROSS  TPvLP_R52_POS_DOLLAR_GROSS  \n",
       "0                 0.00                     0.00                    0.000000  \n",
       "1            126988.74                     0.00                    0.000000  \n",
       "2            424603.68                385516.45                    1.101389  \n",
       "3            312373.26                358418.08                    0.871533  \n",
       "4            298537.96                275276.76                    1.084501  \n",
       "\n",
       "[5 rows x 88 columns]"
      ]
     },
     "execution_count": 187,
     "metadata": {},
     "output_type": "execute_result"
    }
   ],
   "source": [
    "df_main.head()"
   ]
  },
  {
   "cell_type": "code",
   "execution_count": 188,
   "metadata": {},
   "outputs": [
    {
     "data": {
      "text/plain": [
       "['FINELINE_NM',\n",
       " 'BRAND_NM',\n",
       " 'SUBCATEGORY_NM',\n",
       " 'DEAL_KIND_CD',\n",
       " 'FLYER_TYPE_NM',\n",
       " 'FLYER_SLOT_PRIORITY_CD',\n",
       " 'HOLIDAY',\n",
       " 'CORPORATE_STATUS_CD',\n",
       " 'DIVISION_CD',\n",
       " 'LOB_CD',\n",
       " 'KVI_IND',\n",
       " 'PRODUCT_TYPE_CD',\n",
       " 'ONLINEONLY_IND',\n",
       " 'OGBB',\n",
       " 'BRAND_TYPE_CD',\n",
       " 'PRODUCT_PROFILE',\n",
       " 'CONSUMER_ROLE']"
      ]
     },
     "execution_count": 188,
     "metadata": {},
     "output_type": "execute_result"
    }
   ],
   "source": [
    "#read in sales type features\n",
    "cat_features = list(df_main.columns[df_main.dtypes == 'object'])\n",
    "cat_features"
   ]
  },
  {
   "cell_type": "code",
   "execution_count": 189,
   "metadata": {
    "collapsed": true
   },
   "outputs": [],
   "source": [
    "features = list(df_main.columns)"
   ]
  },
  {
   "cell_type": "code",
   "execution_count": 176,
   "metadata": {
    "collapsed": true
   },
   "outputs": [],
   "source": [
    "#Create new features list\n",
    "#new_features = list(df_main.columns)\n",
    "#for x in ['CLNDR_MTH_NUM','C445_WK_NUM','C445_YR_NUM','STORE_ID','PRODUCT_ID']:\n",
    " #   new_features.remove(x)"
   ]
  },
  {
   "cell_type": "markdown",
   "metadata": {},
   "source": [
    "## Engineer Key feature: Competitor prices"
   ]
  },
  {
   "cell_type": "code",
   "execution_count": 190,
   "metadata": {},
   "outputs": [],
   "source": [
    "#Using fineline as competitor group\n",
    "\n",
    "#Groupby to get prices mean and sum\n",
    "df_gb_price_mean = df_main[['STORE_ID','FINELINE_NM','CLNDR_MTH_NUM','C445_WK_NUM','C445_YR_NUM','ITEM_ACTUAL_SELLING_PRICE_AMT']].groupby(['STORE_ID','FINELINE_NM','CLNDR_MTH_NUM','C445_WK_NUM','C445_YR_NUM']).mean().reset_index()\n",
    "df_gb_price_mean.rename(columns = {'ITEM_ACTUAL_SELLING_PRICE_AMT':'AVG_COMPT_PRICE'}, inplace = True)\n",
    "df_gb_price_sum = df_main[['STORE_ID','FINELINE_NM','CLNDR_MTH_NUM','C445_WK_NUM','C445_YR_NUM','ITEM_ACTUAL_SELLING_PRICE_AMT']].groupby(['STORE_ID','FINELINE_NM','CLNDR_MTH_NUM','C445_WK_NUM','C445_YR_NUM']).sum().reset_index()\n",
    "df_gb_price_sum.rename(columns = {'ITEM_ACTUAL_SELLING_PRICE_AMT':'SUM_COMPT_PRICE'}, inplace = True)\n",
    "\n",
    "#merge onto main\n",
    "df_main = pd.merge(df_main, df_gb_price_mean, on = ['STORE_ID','FINELINE_NM','CLNDR_MTH_NUM','C445_WK_NUM','C445_YR_NUM'], how = 'left')\n",
    "df_main = pd.merge(df_main, df_gb_price_sum, on = ['STORE_ID','FINELINE_NM','CLNDR_MTH_NUM','C445_WK_NUM','C445_YR_NUM'], how = 'left')\n",
    "\n",
    "#create price to competition ratio\n",
    "df_main['price_to_comp_ratio'] = df_main['ITEM_ACTUAL_SELLING_PRICE_AMT']/df_main['AVG_COMPT_PRICE']"
   ]
  },
  {
   "cell_type": "code",
   "execution_count": 191,
   "metadata": {
    "collapsed": true
   },
   "outputs": [],
   "source": [
    "#add to new features list\n",
    "features.append('AVG_COMPT_PRICE')\n",
    "features.append('SUM_COMPT_PRICE')\n",
    "features.append('price_to_comp_ratio')"
   ]
  },
  {
   "cell_type": "code",
   "execution_count": null,
   "metadata": {
    "scrolled": false
   },
   "outputs": [],
   "source": [
    "df_main.head()\n"
   ]
  },
  {
   "cell_type": "markdown",
   "metadata": {},
   "source": [
    "## Make a feature list - add new features and remove store id and features we will not predict"
   ]
  },
  {
   "cell_type": "code",
   "execution_count": 192,
   "metadata": {
    "collapsed": true
   },
   "outputs": [],
   "source": [
    "#features and categorical features separated\n",
    "#Original vanilla features from weekly data\n",
    "#features = ['CLNDR_MTH_NUM', 'C445_WK_NUM', 'STORE_ID', 'PRODUCT_ID',\n",
    " #      'FINELINE_NM', 'BRAND_NM', 'ITEM_ACTUAL_SELLING_PRICE_AMT']\n",
    "#cat_features = ['FINELINE_NM','BRAND_NM']\n",
    "#key_cols = ['CLNDR_MTH_NUM','C445_WK_NUM','C445_YR_NUM','STORE_ID','PRODUCT_ID']\n",
    "\n",
    "#add new features\n",
    "#for x in new_features:\n",
    "    #features.append(x)\n",
    "\n",
    "#Remove features we cannot predict\n",
    "features.remove('OTHER_IND')\n",
    "features.remove('STORE_ID')\n",
    "features.remove('QTY_SOLD')"
   ]
  },
  {
   "cell_type": "code",
   "execution_count": 193,
   "metadata": {},
   "outputs": [
    {
     "data": {
      "text/plain": [
       "['CLNDR_MTH_NUM',\n",
       " 'C445_WK_NUM',\n",
       " 'C445_YR_NUM',\n",
       " 'PRODUCT_ID',\n",
       " 'FINELINE_NM',\n",
       " 'BRAND_NM',\n",
       " 'ITEM_ACTUAL_SELLING_PRICE_AMT',\n",
       " 'PRODUCT_NUM',\n",
       " 'CLEARANCE_IND',\n",
       " 'INSTORE_IND',\n",
       " 'PROMO_IND',\n",
       " 'REGULAR_IND',\n",
       " 'REGULAR_PROMO_IND',\n",
       " 'SUBCATEGORY_CD',\n",
       " 'SUBCATEGORY_NM',\n",
       " 'FINELINE_CD',\n",
       " 'FNLN_SEASONAL_PROFILE',\n",
       " 'FNLN_SEASONAL_SLOPE',\n",
       " 'CATEGORY_CD',\n",
       " 'BUSCAT_SEASONAL_PROFILE',\n",
       " 'BUSCAT_SEASONAL_SLOPE',\n",
       " 'DEAL_KIND_CD',\n",
       " 'FLYER_TYPE_NM',\n",
       " 'SPACE_RATIO',\n",
       " 'SLOT_COUNT',\n",
       " 'FLYER_SHOW_LIST_BINARY',\n",
       " 'FLYER_SLOT_PRIORITY_CD',\n",
       " 'PRICING_EDLP_IND',\n",
       " 'SAVE_STORY',\n",
       " 'PROMO_WK_FLAG',\n",
       " 'SO_QTY',\n",
       " 'STATUS_COUNT_ACTIVE',\n",
       " 'STATUS_COUNT_DWO',\n",
       " 'COUNT_NEWSKU_ACTIVE',\n",
       " 'STATUS_COUNT_ACTIVE_BUSCAT',\n",
       " 'STATUS_COUNT_DWO_BUSCAT',\n",
       " 'COUNT_NEWSKU_ACTIVE_BUSCAT',\n",
       " 'NEW_PCT_OF_ASSORT_FNLN',\n",
       " 'DWO_PCT_OF_ASSORT_FNLN',\n",
       " 'NEW_PCT_OF_ASSORT_BUSCAT',\n",
       " 'DWO_PCT_OF_ASSORT_BUSCAT',\n",
       " 'STORE_DAY_CLOSURES',\n",
       " 'HOLIDAY_COUNT',\n",
       " 'HOLIDAY',\n",
       " 'AVG_MAX_TEMP',\n",
       " 'AVG_MIN_TEMP',\n",
       " 'TOTAL_RAIN',\n",
       " 'TOTAL_SNOW',\n",
       " 'TOTAL_NEW_RAIN',\n",
       " 'TOTAL_NEW_SNOW',\n",
       " 'CORPORATE_STATUS_CD',\n",
       " 'REG_PRICE_AMT',\n",
       " 'DIVISION_CD',\n",
       " 'LOB_CD',\n",
       " 'CUBE',\n",
       " 'KVI_IND',\n",
       " 'PRODUCT_TYPE_CD',\n",
       " 'ONLINEONLY_IND',\n",
       " 'OGBB',\n",
       " 'INVENTORY_TIER',\n",
       " 'BRAND_TYPE_CD',\n",
       " 'PRODUCT_PROFILE',\n",
       " 'CONSUMER_ROLE',\n",
       " 'TOTAL_RETAIL_INV',\n",
       " 'TOTAL_RETAIL_INV_DOLLARS',\n",
       " 'COUNT_INV_GREATERTHAN_0',\n",
       " 'COUNT_INV_GREATERTHAN_1',\n",
       " 'POS_DOLLARS_GROSS',\n",
       " 'NEW_SKU_FLAG',\n",
       " 'WEEKS_SINCE_LAST_PROMO',\n",
       " 'WEEKS_UNTIL_NEXT_PROMO',\n",
       " 'DAYS_NON_NEW',\n",
       " 'benchmark_fcst',\n",
       " 'R52_AVG_RTL_INV',\n",
       " 'LP_R52_AVG_RTL_INV',\n",
       " 'TPvLP_R52_AVG_RTL_INV',\n",
       " 'R52_AVG_RTL_INV_DOLLARS',\n",
       " 'LP_R52_AVG_RTL_INV_DOLLARS',\n",
       " 'TPvLP_R52_AVG_RTL_INV_DOLLARS',\n",
       " 'R52_POS_UNIT_GROSS',\n",
       " 'LP_R52_POS_UNIT_GROSS',\n",
       " 'TPvLP_R52_POS_UNIT_GROSS',\n",
       " 'R52_POS_DOLLAR_GROSS',\n",
       " 'LP_R52_POS_DOLLAR_GROSS',\n",
       " 'TPvLP_R52_POS_DOLLAR_GROSS',\n",
       " 'AVG_COMPT_PRICE',\n",
       " 'SUM_COMPT_PRICE',\n",
       " 'price_to_comp_ratio']"
      ]
     },
     "execution_count": 193,
     "metadata": {},
     "output_type": "execute_result"
    }
   ],
   "source": [
    "features"
   ]
  },
  {
   "cell_type": "code",
   "execution_count": 194,
   "metadata": {
    "collapsed": true
   },
   "outputs": [],
   "source": [
    "# make dictionary for category\n",
    "cat_dict = {}\n",
    "\n",
    "for col in cat_features:\n",
    "    cat_dict[col] = {}\n",
    "    count = 0\n",
    "    for label in list(df_main[col].unique()):\n",
    "        cat_dict[col][label] = count\n",
    "        count += 1\n",
    "    \n",
    "def convert_cat(col, label):\n",
    "    return (cat_dict[col][label])\n",
    "\n",
    "for col in cat_features:\n",
    "    df_main[col] = df_main[col].apply(lambda x: convert_cat(col,x))"
   ]
  },
  {
   "cell_type": "code",
   "execution_count": 195,
   "metadata": {},
   "outputs": [],
   "source": [
    "#Make training and test set\n",
    "df_train = df_main[(df_main['C445_YR_NUM']<2017)]\n",
    "df_test = df_main[(df_main['C445_YR_NUM']>=2017)]\n"
   ]
  },
  {
   "cell_type": "code",
   "execution_count": 196,
   "metadata": {},
   "outputs": [
    {
     "data": {
      "text/plain": [
       "1739387"
      ]
     },
     "execution_count": 196,
     "metadata": {},
     "output_type": "execute_result"
    }
   ],
   "source": [
    "len(df_main)"
   ]
  },
  {
   "cell_type": "code",
   "execution_count": 197,
   "metadata": {},
   "outputs": [
    {
     "data": {
      "text/plain": [
       "880225"
      ]
     },
     "execution_count": 197,
     "metadata": {},
     "output_type": "execute_result"
    }
   ],
   "source": [
    "len(df_train)"
   ]
  },
  {
   "cell_type": "code",
   "execution_count": 198,
   "metadata": {},
   "outputs": [
    {
     "data": {
      "text/plain": [
       "859162"
      ]
     },
     "execution_count": 198,
     "metadata": {},
     "output_type": "execute_result"
    }
   ],
   "source": [
    "len(df_test)"
   ]
  },
  {
   "cell_type": "code",
   "execution_count": 199,
   "metadata": {
    "collapsed": true
   },
   "outputs": [],
   "source": [
    "#seems to have an NA value...  ##################################################\n",
    "\n",
    "df_test = df_test.replace(np.inf,5)\n",
    "df_test = df_test.replace(-np.inf,-5)\n",
    "df_test = df_test.dropna()\n",
    "\n",
    "df_train = df_train.replace(np.inf,5)\n",
    "df_train = df_train.replace(-np.inf,-5)\n",
    "df_train = df_train.dropna()"
   ]
  },
  {
   "cell_type": "code",
   "execution_count": null,
   "metadata": {
    "collapsed": true
   },
   "outputs": [],
   "source": []
  },
  {
   "cell_type": "code",
   "execution_count": 200,
   "metadata": {
    "scrolled": true
   },
   "outputs": [
    {
     "data": {
      "text/plain": [
       "['CLNDR_MTH_NUM',\n",
       " 'C445_WK_NUM',\n",
       " 'C445_YR_NUM',\n",
       " 'PRODUCT_ID',\n",
       " 'FINELINE_NM',\n",
       " 'BRAND_NM',\n",
       " 'ITEM_ACTUAL_SELLING_PRICE_AMT',\n",
       " 'PRODUCT_NUM',\n",
       " 'CLEARANCE_IND',\n",
       " 'INSTORE_IND',\n",
       " 'PROMO_IND',\n",
       " 'REGULAR_IND',\n",
       " 'REGULAR_PROMO_IND',\n",
       " 'SUBCATEGORY_CD',\n",
       " 'SUBCATEGORY_NM',\n",
       " 'FINELINE_CD',\n",
       " 'FNLN_SEASONAL_PROFILE',\n",
       " 'FNLN_SEASONAL_SLOPE',\n",
       " 'CATEGORY_CD',\n",
       " 'BUSCAT_SEASONAL_PROFILE',\n",
       " 'BUSCAT_SEASONAL_SLOPE',\n",
       " 'DEAL_KIND_CD',\n",
       " 'FLYER_TYPE_NM',\n",
       " 'SPACE_RATIO',\n",
       " 'SLOT_COUNT',\n",
       " 'FLYER_SHOW_LIST_BINARY',\n",
       " 'FLYER_SLOT_PRIORITY_CD',\n",
       " 'PRICING_EDLP_IND',\n",
       " 'SAVE_STORY',\n",
       " 'PROMO_WK_FLAG',\n",
       " 'SO_QTY',\n",
       " 'STATUS_COUNT_ACTIVE',\n",
       " 'STATUS_COUNT_DWO',\n",
       " 'COUNT_NEWSKU_ACTIVE',\n",
       " 'STATUS_COUNT_ACTIVE_BUSCAT',\n",
       " 'STATUS_COUNT_DWO_BUSCAT',\n",
       " 'COUNT_NEWSKU_ACTIVE_BUSCAT',\n",
       " 'NEW_PCT_OF_ASSORT_FNLN',\n",
       " 'DWO_PCT_OF_ASSORT_FNLN',\n",
       " 'NEW_PCT_OF_ASSORT_BUSCAT',\n",
       " 'DWO_PCT_OF_ASSORT_BUSCAT',\n",
       " 'STORE_DAY_CLOSURES',\n",
       " 'HOLIDAY_COUNT',\n",
       " 'HOLIDAY',\n",
       " 'AVG_MAX_TEMP',\n",
       " 'AVG_MIN_TEMP',\n",
       " 'TOTAL_RAIN',\n",
       " 'TOTAL_SNOW',\n",
       " 'TOTAL_NEW_RAIN',\n",
       " 'TOTAL_NEW_SNOW',\n",
       " 'CORPORATE_STATUS_CD',\n",
       " 'REG_PRICE_AMT',\n",
       " 'DIVISION_CD',\n",
       " 'LOB_CD',\n",
       " 'CUBE',\n",
       " 'KVI_IND',\n",
       " 'PRODUCT_TYPE_CD',\n",
       " 'ONLINEONLY_IND',\n",
       " 'OGBB',\n",
       " 'INVENTORY_TIER',\n",
       " 'BRAND_TYPE_CD',\n",
       " 'PRODUCT_PROFILE',\n",
       " 'CONSUMER_ROLE',\n",
       " 'TOTAL_RETAIL_INV',\n",
       " 'TOTAL_RETAIL_INV_DOLLARS',\n",
       " 'COUNT_INV_GREATERTHAN_0',\n",
       " 'COUNT_INV_GREATERTHAN_1',\n",
       " 'POS_DOLLARS_GROSS',\n",
       " 'NEW_SKU_FLAG',\n",
       " 'WEEKS_SINCE_LAST_PROMO',\n",
       " 'WEEKS_UNTIL_NEXT_PROMO',\n",
       " 'DAYS_NON_NEW',\n",
       " 'benchmark_fcst',\n",
       " 'R52_AVG_RTL_INV',\n",
       " 'LP_R52_AVG_RTL_INV',\n",
       " 'TPvLP_R52_AVG_RTL_INV',\n",
       " 'R52_AVG_RTL_INV_DOLLARS',\n",
       " 'LP_R52_AVG_RTL_INV_DOLLARS',\n",
       " 'TPvLP_R52_AVG_RTL_INV_DOLLARS',\n",
       " 'R52_POS_UNIT_GROSS',\n",
       " 'LP_R52_POS_UNIT_GROSS',\n",
       " 'TPvLP_R52_POS_UNIT_GROSS',\n",
       " 'R52_POS_DOLLAR_GROSS',\n",
       " 'LP_R52_POS_DOLLAR_GROSS',\n",
       " 'TPvLP_R52_POS_DOLLAR_GROSS',\n",
       " 'AVG_COMPT_PRICE',\n",
       " 'SUM_COMPT_PRICE',\n",
       " 'price_to_comp_ratio']"
      ]
     },
     "execution_count": 200,
     "metadata": {},
     "output_type": "execute_result"
    }
   ],
   "source": [
    "features"
   ]
  },
  {
   "cell_type": "markdown",
   "metadata": {},
   "source": [
    "# Modelling"
   ]
  },
  {
   "cell_type": "markdown",
   "metadata": {},
   "source": [
    "## Random Forest Regressor"
   ]
  },
  {
   "cell_type": "code",
   "execution_count": 201,
   "metadata": {},
   "outputs": [
    {
     "data": {
      "text/plain": [
       "RandomForestRegressor(bootstrap=True, criterion='mse', max_depth=None,\n",
       "           max_features='auto', max_leaf_nodes=None,\n",
       "           min_impurity_decrease=0.0, min_impurity_split=None,\n",
       "           min_samples_leaf=1, min_samples_split=2,\n",
       "           min_weight_fraction_leaf=0.0, n_estimators=30, n_jobs=-1,\n",
       "           oob_score=False, random_state=0, verbose=0, warm_start=False)"
      ]
     },
     "execution_count": 201,
     "metadata": {},
     "output_type": "execute_result"
    }
   ],
   "source": [
    "from sklearn.ensemble import RandomForestRegressor\n",
    "rfr = RandomForestRegressor(random_state=0, n_estimators=30, n_jobs = -1)\n",
    "rfr.fit(df_train[features],df_train['QTY_SOLD'])"
   ]
  },
  {
   "cell_type": "code",
   "execution_count": 202,
   "metadata": {
    "scrolled": true
   },
   "outputs": [],
   "source": [
    "predict = rfr.predict(df_test[features])"
   ]
  },
  {
   "cell_type": "code",
   "execution_count": 22,
   "metadata": {},
   "outputs": [
    {
     "ename": "NameError",
     "evalue": "name 'df_test' is not defined",
     "output_type": "error",
     "traceback": [
      "\u001b[1;31m---------------------------------------------------------------------------\u001b[0m",
      "\u001b[1;31mNameError\u001b[0m                                 Traceback (most recent call last)",
      "\u001b[1;32m<ipython-input-22-08c3aca69bf9>\u001b[0m in \u001b[0;36m<module>\u001b[1;34m()\u001b[0m\n\u001b[1;32m----> 1\u001b[1;33m \u001b[0mlen\u001b[0m\u001b[1;33m(\u001b[0m\u001b[0mdf_test\u001b[0m\u001b[1;33m)\u001b[0m\u001b[1;33m\u001b[0m\u001b[0m\n\u001b[0m",
      "\u001b[1;31mNameError\u001b[0m: name 'df_test' is not defined"
     ]
    }
   ],
   "source": [
    "len(df_test)"
   ]
  },
  {
   "cell_type": "markdown",
   "metadata": {},
   "source": [
    "# Results"
   ]
  },
  {
   "cell_type": "markdown",
   "metadata": {},
   "source": [
    "## Weekly results"
   ]
  },
  {
   "cell_type": "code",
   "execution_count": 24,
   "metadata": {},
   "outputs": [
    {
     "ename": "NameError",
     "evalue": "name 'df_test' is not defined",
     "output_type": "error",
     "traceback": [
      "\u001b[1;31m---------------------------------------------------------------------------\u001b[0m",
      "\u001b[1;31mNameError\u001b[0m                                 Traceback (most recent call last)",
      "\u001b[1;32m<ipython-input-24-2687648d0dd9>\u001b[0m in \u001b[0;36m<module>\u001b[1;34m()\u001b[0m\n\u001b[1;32m----> 1\u001b[1;33m \u001b[0mdf_test\u001b[0m\u001b[1;33m\u001b[0m\u001b[0m\n\u001b[0m",
      "\u001b[1;31mNameError\u001b[0m: name 'df_test' is not defined"
     ]
    }
   ],
   "source": [
    "df_test"
   ]
  },
  {
   "cell_type": "code",
   "execution_count": 203,
   "metadata": {},
   "outputs": [],
   "source": [
    "df_results = pd.DataFrame()\n",
    "df_results['prediction'] = predict\n",
    "df_results['actual'] = df_test['QTY_SOLD'].values\n",
    "df_results['abs_diff'] = abs(df_results['actual'] - df_results['prediction'])\n",
    "df_results['diff'] = df_results['actual'] - df_results['prediction']\n",
    "df_results['pct_diff'] = df_results['diff']/df_results['actual']\n",
    "df_results['pct_abs_diff'] = df_results['abs_diff']/df_results['actual']\n",
    "df_results['pct_abs_diff'] = df_results['pct_abs_diff'].replace([np.inf], 1)\n",
    "df_results['pct_abs_diff'] = df_results['pct_abs_diff'].replace([-np.inf], -1)\n",
    "df_results['pct_diff'] = df_results['pct_diff'].replace([np.inf], 1)\n",
    "df_results['pct_diff'] = df_results['pct_diff'].replace([-np.inf], -1)\n",
    "for col in key_cols:\n",
    "    df_results[col] = df_test[col].values"
   ]
  },
  {
   "cell_type": "code",
   "execution_count": 204,
   "metadata": {},
   "outputs": [
    {
     "data": {
      "text/plain": [
       "-0.39841648394766727"
      ]
     },
     "execution_count": 204,
     "metadata": {},
     "output_type": "execute_result"
    }
   ],
   "source": [
    "df_results['pct_diff'].mean()"
   ]
  },
  {
   "cell_type": "code",
   "execution_count": 205,
   "metadata": {},
   "outputs": [
    {
     "data": {
      "text/plain": [
       "0.5178003937717823"
      ]
     },
     "execution_count": 205,
     "metadata": {},
     "output_type": "execute_result"
    }
   ],
   "source": [
    "df_results['pct_abs_diff'].mean()"
   ]
  },
  {
   "cell_type": "code",
   "execution_count": 206,
   "metadata": {},
   "outputs": [
    {
     "data": {
      "text/plain": [
       "<matplotlib.axes._subplots.AxesSubplot at 0xa088c748>"
      ]
     },
     "execution_count": 206,
     "metadata": {},
     "output_type": "execute_result"
    },
    {
     "data": {
      "image/png": "[encoded data removed]",
      "text/plain": [
       "<matplotlib.figure.Figure at 0xa088cf98>"
      ]
     },
     "metadata": {},
     "output_type": "display_data"
    }
   ],
   "source": [
    "df_results.plot(x = 'actual', y = 'prediction', kind = 'scatter')"
   ]
  },
  {
   "cell_type": "code",
   "execution_count": 32,
   "metadata": {},
   "outputs": [
    {
     "data": {
      "text/html": [
       "<div>\n",
       "<style scoped>\n",
       "    .dataframe tbody tr th:only-of-type {\n",
       "        vertical-align: middle;\n",
       "    }\n",
       "\n",
       "    .dataframe tbody tr th {\n",
       "        vertical-align: top;\n",
       "    }\n",
       "\n",
       "    .dataframe thead th {\n",
       "        text-align: right;\n",
       "    }\n",
       "</style>\n",
       "<table border=\"1\" class=\"dataframe\">\n",
       "  <thead>\n",
       "    <tr style=\"text-align: right;\">\n",
       "      <th></th>\n",
       "      <th>prediction</th>\n",
       "      <th>actual</th>\n",
       "      <th>abs_diff</th>\n",
       "      <th>diff</th>\n",
       "      <th>pct_diff</th>\n",
       "      <th>pct_abs_diff</th>\n",
       "      <th>CLNDR_MTH_NUM</th>\n",
       "      <th>C445_WK_NUM</th>\n",
       "      <th>C445_YR_NUM</th>\n",
       "      <th>STORE_ID</th>\n",
       "      <th>PRODUCT_ID</th>\n",
       "    </tr>\n",
       "  </thead>\n",
       "  <tbody>\n",
       "    <tr>\n",
       "      <th>586109</th>\n",
       "      <td>-0.366667</td>\n",
       "      <td>-120.0</td>\n",
       "      <td>119.633333</td>\n",
       "      <td>-119.633333</td>\n",
       "      <td>0.996944</td>\n",
       "      <td>-0.996944</td>\n",
       "      <td>2</td>\n",
       "      <td>8</td>\n",
       "      <td>2017</td>\n",
       "      <td>26061</td>\n",
       "      <td>1594241</td>\n",
       "    </tr>\n",
       "  </tbody>\n",
       "</table>\n",
       "</div>"
      ],
      "text/plain": [
       "        prediction  actual    abs_diff        diff  pct_diff  pct_abs_diff  \\\n",
       "586109   -0.366667  -120.0  119.633333 -119.633333  0.996944     -0.996944   \n",
       "\n",
       "        CLNDR_MTH_NUM  C445_WK_NUM  C445_YR_NUM  STORE_ID  PRODUCT_ID  \n",
       "586109              2            8         2017     26061     1594241  "
      ]
     },
     "execution_count": 32,
     "metadata": {},
     "output_type": "execute_result"
    }
   ],
   "source": [
    "df_results[df_results['actual'] < -10]"
   ]
  },
  {
   "cell_type": "markdown",
   "metadata": {},
   "source": [
    "## Rolled up monthly results"
   ]
  },
  {
   "cell_type": "code",
   "execution_count": 70,
   "metadata": {
    "collapsed": true
   },
   "outputs": [],
   "source": [
    "df_results_month = df_results.groupby(['CLNDR_MTH_NUM','C445_YR_NUM','STORE_ID','PRODUCT_ID']).sum().reset_index()\n",
    "df_results_month['abs_diff'] = abs(df_results_month['actual'] - df_results_month['prediction'])\n",
    "df_results_month['pct_abs_diff'] = df_results_month['abs_diff']/df_results_month['actual']\n",
    "df_results_month['diff'] = df_results_month['actual'] - df_results_month['prediction']\n",
    "df_results_month['pct_diff'] = df_results_month['diff']/df_results_month['actual']\n",
    "\n",
    "df_results_month = df_results_month.drop(['C445_WK_NUM'], axis = 1)\n",
    "df_results_month['pct_diff'] = df_results_month['pct_diff'].replace([np.inf], 1)\n",
    "df_results_month['pct_diff'] = df_results_month['pct_diff'].replace([-np.inf], -1)\n",
    "df_results_month['pct_abs_diff'] = df_results_month['pct_abs_diff'].replace([np.inf], 1)\n",
    "df_results_month['pct_abs_diff'] = df_results_month['pct_abs_diff'].replace([-np.inf], -1)\n"
   ]
  },
  {
   "cell_type": "code",
   "execution_count": 71,
   "metadata": {},
   "outputs": [
    {
     "data": {
      "text/plain": [
       "-0.07862734423121404"
      ]
     },
     "execution_count": 71,
     "metadata": {},
     "output_type": "execute_result"
    }
   ],
   "source": [
    "df_results_month['pct_diff'].mean()"
   ]
  },
  {
   "cell_type": "code",
   "execution_count": 72,
   "metadata": {},
   "outputs": [
    {
     "data": {
      "text/plain": [
       "0.19341368202230774"
      ]
     },
     "execution_count": 72,
     "metadata": {},
     "output_type": "execute_result"
    }
   ],
   "source": [
    "df_results_month['pct_abs_diff'].mean()"
   ]
  },
  {
   "cell_type": "code",
   "execution_count": 73,
   "metadata": {},
   "outputs": [
    {
     "data": {
      "text/plain": [
       "<matplotlib.axes._subplots.AxesSubplot at 0x251103e8e80>"
      ]
     },
     "execution_count": 73,
     "metadata": {},
     "output_type": "execute_result"
    },
    {
     "data": {
      "image/png": "[encoded data removed]",
      "text/plain": [
       "<matplotlib.figure.Figure at 0x251939d7eb8>"
      ]
     },
     "metadata": {},
     "output_type": "display_data"
    }
   ],
   "source": [
    "df_results_month[df_results_month['actual'] > 0].plot(x = 'actual', y = 'prediction', kind = 'scatter')"
   ]
  },
  {
   "cell_type": "markdown",
   "metadata": {},
   "source": [
    "## Rolled up yearly results"
   ]
  },
  {
   "cell_type": "code",
   "execution_count": 74,
   "metadata": {
    "collapsed": true
   },
   "outputs": [],
   "source": [
    "df_results_year = df_results.groupby(['C445_YR_NUM','STORE_ID','PRODUCT_ID']).sum().reset_index()\n",
    "df_results_year['abs_diff'] = abs(df_results_year['actual'] - df_results_year['prediction'])\n",
    "df_results_year['diff'] = df_results_year['actual'] - df_results_year['prediction']\n",
    "df_results_year['pct_diff'] = df_results_year['diff']/df_results_year['actual']\n",
    "df_results_year['pct_abs_diff'] = df_results_year['abs_diff']/df_results_year['actual']\n",
    "\n",
    "df_results_year = df_results_year.drop(['C445_WK_NUM','CLNDR_MTH_NUM'], axis = 1)\n",
    "df_results_year['pct_diff'] = df_results_year['pct_diff'].replace([np.inf], 1)\n",
    "df_results_year['pct_diff'] = df_results_year['pct_diff'].replace([-np.inf], -1)\n",
    "df_results_year['pct_abs_diff'] = df_results_year['pct_abs_diff'].replace([np.inf], 1)\n",
    "df_results_year['pct_abs_diff'] = df_results_year['pct_abs_diff'].replace([-np.inf], -1)"
   ]
  },
  {
   "cell_type": "code",
   "execution_count": 75,
   "metadata": {},
   "outputs": [
    {
     "data": {
      "text/plain": [
       "-0.06453153091344171"
      ]
     },
     "execution_count": 75,
     "metadata": {},
     "output_type": "execute_result"
    }
   ],
   "source": [
    "df_results_year['pct_diff'].mean()"
   ]
  },
  {
   "cell_type": "code",
   "execution_count": 76,
   "metadata": {},
   "outputs": [
    {
     "data": {
      "text/plain": [
       "0.12982740544455051"
      ]
     },
     "execution_count": 76,
     "metadata": {},
     "output_type": "execute_result"
    }
   ],
   "source": [
    "df_results_year['pct_abs_diff'].mean()"
   ]
  },
  {
   "cell_type": "code",
   "execution_count": 77,
   "metadata": {},
   "outputs": [
    {
     "data": {
      "text/plain": [
       "<matplotlib.axes._subplots.AxesSubplot at 0x251939bf128>"
      ]
     },
     "execution_count": 77,
     "metadata": {},
     "output_type": "execute_result"
    },
    {
     "data": {
      "image/png": "[encoded data removed]",
      "text/plain": [
       "<matplotlib.figure.Figure at 0x25110415208>"
      ]
     },
     "metadata": {},
     "output_type": "display_data"
    }
   ],
   "source": [
    "df_results_year[df_results_year['actual'] > 0].plot(x = 'actual', y = 'prediction', kind = 'scatter')"
   ]
  },
  {
   "cell_type": "markdown",
   "metadata": {},
   "source": [
    "## Saving off Model"
   ]
  },
  {
   "cell_type": "code",
   "execution_count": 207,
   "metadata": {
    "collapsed": true
   },
   "outputs": [],
   "source": [
    "import pickle\n",
    "# save the model to disk\n",
    "filename = 'rfr_mops_modelB.sav'\n",
    "pickle.dump(rfr, open(filename, 'wb'))\n",
    "\n",
    "# save test set to disk\n",
    "df_test.to_csv('mops_testB.csv')"
   ]
  },
  {
   "cell_type": "markdown",
   "metadata": {},
   "source": [
    "# Reading in model"
   ]
  },
  {
   "cell_type": "code",
   "execution_count": 89,
   "metadata": {
    "collapsed": true
   },
   "outputs": [],
   "source": [
    "import pickle\n",
    "filename = 'rfr_mops_model.sav'\n",
    "loaded_model = pickle.load(open(filename, 'rb'))"
   ]
  },
  {
   "cell_type": "code",
   "execution_count": 90,
   "metadata": {
    "collapsed": true
   },
   "outputs": [],
   "source": [
    "predict2 = loaded_model.predict(df_test[features])"
   ]
  },
  {
   "cell_type": "code",
   "execution_count": 91,
   "metadata": {
    "collapsed": true
   },
   "outputs": [],
   "source": [
    "df_results2 = pd.DataFrame()\n",
    "df_results2['prediction'] = predict2\n",
    "df_results2['actual'] = df_test['QTY_SOLD'].values\n",
    "df_results2['abs_diff'] = abs(df_results2['actual'] - df_results2['prediction'])\n",
    "df_results2['diff'] = df_results2['actual'] - df_results2['prediction']\n",
    "df_results2['pct_diff'] = df_results2['diff']/df_results2['actual']\n",
    "df_results2['pct_abs_diff'] = df_results2['abs_diff']/df_results2['actual']\n",
    "df_results2['pct_abs_diff'] = df_results2['pct_abs_diff'].replace([np.inf], 1)\n",
    "df_results2['pct_abs_diff'] = df_results2['pct_abs_diff'].replace([-np.inf], -1)\n",
    "df_results2['pct_diff'] = df_results2['pct_diff'].replace([np.inf], 1)\n",
    "df_results2['pct_diff'] = df_results2['pct_diff'].replace([-np.inf], -1)\n",
    "for col in key_cols:\n",
    "    df_results2[col] = df_test[col].values"
   ]
  },
  {
   "cell_type": "code",
   "execution_count": 92,
   "metadata": {},
   "outputs": [
    {
     "data": {
      "text/plain": [
       "-0.07861533102288433"
      ]
     },
     "execution_count": 92,
     "metadata": {},
     "output_type": "execute_result"
    }
   ],
   "source": [
    "#model from this notebook\n",
    "df_results['pct_diff'].mean()"
   ]
  },
  {
   "cell_type": "code",
   "execution_count": 93,
   "metadata": {},
   "outputs": [
    {
     "data": {
      "text/plain": [
       "-0.07861533102288433"
      ]
     },
     "execution_count": 93,
     "metadata": {},
     "output_type": "execute_result"
    }
   ],
   "source": [
    "#Loaded model confirming it is the same\n",
    "df_results2['pct_diff'].mean()"
   ]
  },
  {
   "cell_type": "code",
   "execution_count": 96,
   "metadata": {},
   "outputs": [
    {
     "data": {
      "text/plain": [
       "['CLNDR_MTH_NUM',\n",
       " 'C445_WK_NUM',\n",
       " 'C445_YR_NUM',\n",
       " 'PRODUCT_ID',\n",
       " 'FINELINE_NM',\n",
       " 'BRAND_NM',\n",
       " 'ITEM_ACTUAL_SELLING_PRICE_AMT',\n",
       " 'CLEARANCE_IND',\n",
       " 'INSTORE_IND',\n",
       " 'PROMO_IND',\n",
       " 'REGULAR_IND',\n",
       " 'REGULAR_PROMO_IND',\n",
       " 'AVG_COMPT_PRICE',\n",
       " 'SUM_COMPT_PRICE',\n",
       " 'price_to_comp_ratio']"
      ]
     },
     "execution_count": 96,
     "metadata": {},
     "output_type": "execute_result"
    }
   ],
   "source": [
    "features"
   ]
  },
  {
   "cell_type": "code",
   "execution_count": null,
   "metadata": {
    "collapsed": true
   },
   "outputs": [],
   "source": []
  }
 ],
 "metadata": {
  "kernelspec": {
   "display_name": "Python 3",
   "language": "python",
   "name": "python3"
  },
  "language_info": {
   "codemirror_mode": {
    "name": "ipython",
    "version": 3
   },
   "file_extension": ".py",
   "mimetype": "text/x-python",
   "name": "python",
   "nbconvert_exporter": "python",
   "pygments_lexer": "ipython3",
   "version": "3.7.0"
  }
 },
 "nbformat": 4,
 "nbformat_minor": 2
}
