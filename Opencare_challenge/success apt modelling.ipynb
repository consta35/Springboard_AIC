{
 "cells": [
  {
   "cell_type": "markdown",
   "metadata": {},
   "source": [
    "Here we want to model appointment succes, and run feature importance to determine what features are truly important to getting more successful appointments"
   ]
  },
  {
   "cell_type": "code",
   "execution_count": 42,
   "metadata": {},
   "outputs": [],
   "source": [
    "import pandas as pd\n",
    "import numpy as np\n",
    "import matplotlib.pyplot as plt\n",
    "%matplotlib inline"
   ]
  },
  {
   "cell_type": "code",
   "execution_count": 30,
   "metadata": {},
   "outputs": [],
   "source": [
    "# Import machine learning modules\n",
    "from sklearn.model_selection import train_test_split\n",
    "from sklearn.linear_model import LogisticRegression\n",
    "from sklearn.naive_bayes import MultinomialNB\n",
    "from sklearn.model_selection import cross_val_score\n",
    "from sklearn.model_selection import GridSearchCV\n",
    "from scipy.stats import randint\n",
    "from sklearn.tree import DecisionTreeClassifier\n",
    "from sklearn.ensemble import RandomForestClassifier\n",
    "from sklearn.datasets import make_classification\n",
    "from sklearn.model_selection import RandomizedSearchCV\n",
    "from sklearn.metrics import classification_report\n",
    "from sklearn.metrics import confusion_matrix"
   ]
  },
  {
   "cell_type": "code",
   "execution_count": 4,
   "metadata": {},
   "outputs": [
    {
     "data": {
      "text/html": [
       "<div>\n",
       "<style scoped>\n",
       "    .dataframe tbody tr th:only-of-type {\n",
       "        vertical-align: middle;\n",
       "    }\n",
       "\n",
       "    .dataframe tbody tr th {\n",
       "        vertical-align: top;\n",
       "    }\n",
       "\n",
       "    .dataframe thead th {\n",
       "        text-align: right;\n",
       "    }\n",
       "</style>\n",
       "<table border=\"1\" class=\"dataframe\">\n",
       "  <thead>\n",
       "    <tr style=\"text-align: right;\">\n",
       "      <th></th>\n",
       "      <th>source</th>\n",
       "      <th>campaign</th>\n",
       "      <th>region</th>\n",
       "      <th>locality</th>\n",
       "      <th>preferred_doctor_gender</th>\n",
       "      <th>dental_anxiety</th>\n",
       "      <th>last_visited_a_dentist</th>\n",
       "      <th>how_soon_they_want_to_book</th>\n",
       "      <th>reason_for_visit</th>\n",
       "      <th>patient_insured</th>\n",
       "      <th>number_of_match_results</th>\n",
       "      <th>out_network_results_shown</th>\n",
       "      <th>in_network_results_shown</th>\n",
       "      <th>avg_distance_overall</th>\n",
       "      <th>appointment_requested</th>\n",
       "      <th>appointment_status</th>\n",
       "      <th>appointment_scheduled</th>\n",
       "      <th>appointment_billed</th>\n",
       "      <th>chosen_provider_insurance_status</th>\n",
       "      <th>chosen_provider_distance</th>\n",
       "    </tr>\n",
       "  </thead>\n",
       "  <tbody>\n",
       "    <tr>\n",
       "      <th>0</th>\n",
       "      <td>facebook</td>\n",
       "      <td>san_diego_dentist_patient_acquisition</td>\n",
       "      <td>San Jose</td>\n",
       "      <td>San Jose</td>\n",
       "      <td>No Pref</td>\n",
       "      <td>A little nervous</td>\n",
       "      <td>&lt; 1 year</td>\n",
       "      <td>ASAP</td>\n",
       "      <td>Specific Treatment</td>\n",
       "      <td>f</td>\n",
       "      <td>9</td>\n",
       "      <td>0</td>\n",
       "      <td>0</td>\n",
       "      <td>10547.219510</td>\n",
       "      <td>f</td>\n",
       "      <td>NaN</td>\n",
       "      <td>f</td>\n",
       "      <td>NaN</td>\n",
       "      <td>NaN</td>\n",
       "      <td>NaN</td>\n",
       "    </tr>\n",
       "    <tr>\n",
       "      <th>1</th>\n",
       "      <td>facebook</td>\n",
       "      <td>san_diego_dentist_patient_acquisition</td>\n",
       "      <td>San Diego</td>\n",
       "      <td>Chula Vista</td>\n",
       "      <td>F</td>\n",
       "      <td>Not at all nervous</td>\n",
       "      <td>2+ years</td>\n",
       "      <td>2 weeks</td>\n",
       "      <td>Checkup &amp; Cleaning</td>\n",
       "      <td>f</td>\n",
       "      <td>2</td>\n",
       "      <td>0</td>\n",
       "      <td>0</td>\n",
       "      <td>20784.617720</td>\n",
       "      <td>f</td>\n",
       "      <td>NaN</td>\n",
       "      <td>f</td>\n",
       "      <td>NaN</td>\n",
       "      <td>NaN</td>\n",
       "      <td>NaN</td>\n",
       "    </tr>\n",
       "    <tr>\n",
       "      <th>2</th>\n",
       "      <td>try.opencare.com</td>\n",
       "      <td>Unknown</td>\n",
       "      <td>Austin</td>\n",
       "      <td>Austin</td>\n",
       "      <td>No Pref</td>\n",
       "      <td>Moderately nervous</td>\n",
       "      <td>2+ years</td>\n",
       "      <td>ASAP</td>\n",
       "      <td>Checkup &amp; Cleaning</td>\n",
       "      <td>t</td>\n",
       "      <td>9</td>\n",
       "      <td>8</td>\n",
       "      <td>1</td>\n",
       "      <td>8014.945931</td>\n",
       "      <td>t</td>\n",
       "      <td>CANCELLED</td>\n",
       "      <td>f</td>\n",
       "      <td>f</td>\n",
       "      <td>in-network</td>\n",
       "      <td>2855.594821</td>\n",
       "    </tr>\n",
       "    <tr>\n",
       "      <th>3</th>\n",
       "      <td>facebook</td>\n",
       "      <td>denver_dentist_patient_acquisition</td>\n",
       "      <td>Denver</td>\n",
       "      <td>Golden</td>\n",
       "      <td>No Pref</td>\n",
       "      <td>Not at all nervous</td>\n",
       "      <td>&lt; 1 year</td>\n",
       "      <td>ASAP</td>\n",
       "      <td>Specific Treatment</td>\n",
       "      <td>t</td>\n",
       "      <td>8</td>\n",
       "      <td>2</td>\n",
       "      <td>6</td>\n",
       "      <td>16651.158750</td>\n",
       "      <td>f</td>\n",
       "      <td>NaN</td>\n",
       "      <td>f</td>\n",
       "      <td>NaN</td>\n",
       "      <td>NaN</td>\n",
       "      <td>NaN</td>\n",
       "    </tr>\n",
       "    <tr>\n",
       "      <th>4</th>\n",
       "      <td>facebook</td>\n",
       "      <td>chicago_dentist_patient_acquisition</td>\n",
       "      <td>Chicago</td>\n",
       "      <td>Chicago</td>\n",
       "      <td>F</td>\n",
       "      <td>Not at all nervous</td>\n",
       "      <td>&lt; 1 year</td>\n",
       "      <td>1 week</td>\n",
       "      <td>Checkup &amp; Cleaning</td>\n",
       "      <td>f</td>\n",
       "      <td>9</td>\n",
       "      <td>0</td>\n",
       "      <td>0</td>\n",
       "      <td>5216.934559</td>\n",
       "      <td>f</td>\n",
       "      <td>NaN</td>\n",
       "      <td>f</td>\n",
       "      <td>NaN</td>\n",
       "      <td>NaN</td>\n",
       "      <td>NaN</td>\n",
       "    </tr>\n",
       "  </tbody>\n",
       "</table>\n",
       "</div>"
      ],
      "text/plain": [
       "             source                               campaign     region  \\\n",
       "0          facebook  san_diego_dentist_patient_acquisition   San Jose   \n",
       "1          facebook  san_diego_dentist_patient_acquisition  San Diego   \n",
       "2  try.opencare.com                                Unknown     Austin   \n",
       "3          facebook     denver_dentist_patient_acquisition     Denver   \n",
       "4          facebook    chicago_dentist_patient_acquisition    Chicago   \n",
       "\n",
       "      locality preferred_doctor_gender      dental_anxiety  \\\n",
       "0     San Jose                 No Pref    A little nervous   \n",
       "1  Chula Vista                       F  Not at all nervous   \n",
       "2       Austin                 No Pref  Moderately nervous   \n",
       "3       Golden                 No Pref  Not at all nervous   \n",
       "4      Chicago                       F  Not at all nervous   \n",
       "\n",
       "  last_visited_a_dentist how_soon_they_want_to_book    reason_for_visit  \\\n",
       "0               < 1 year                       ASAP  Specific Treatment   \n",
       "1               2+ years                    2 weeks  Checkup & Cleaning   \n",
       "2               2+ years                       ASAP  Checkup & Cleaning   \n",
       "3               < 1 year                       ASAP  Specific Treatment   \n",
       "4               < 1 year                     1 week  Checkup & Cleaning   \n",
       "\n",
       "  patient_insured  number_of_match_results  out_network_results_shown  \\\n",
       "0               f                        9                          0   \n",
       "1               f                        2                          0   \n",
       "2               t                        9                          8   \n",
       "3               t                        8                          2   \n",
       "4               f                        9                          0   \n",
       "\n",
       "   in_network_results_shown  avg_distance_overall appointment_requested  \\\n",
       "0                         0          10547.219510                     f   \n",
       "1                         0          20784.617720                     f   \n",
       "2                         1           8014.945931                     t   \n",
       "3                         6          16651.158750                     f   \n",
       "4                         0           5216.934559                     f   \n",
       "\n",
       "  appointment_status appointment_scheduled appointment_billed  \\\n",
       "0                NaN                     f                NaN   \n",
       "1                NaN                     f                NaN   \n",
       "2          CANCELLED                     f                  f   \n",
       "3                NaN                     f                NaN   \n",
       "4                NaN                     f                NaN   \n",
       "\n",
       "  chosen_provider_insurance_status  chosen_provider_distance  \n",
       "0                              NaN                       NaN  \n",
       "1                              NaN                       NaN  \n",
       "2                       in-network               2855.594821  \n",
       "3                              NaN                       NaN  \n",
       "4                              NaN                       NaN  "
      ]
     },
     "execution_count": 4,
     "metadata": {},
     "output_type": "execute_result"
    }
   ],
   "source": [
    "data = pd.read_csv('DS-Take-Home-Sample-Data - DS-Take-Home-Sample-Data.csv')\n",
    "data.head()"
   ]
  },
  {
   "cell_type": "code",
   "execution_count": 5,
   "metadata": {},
   "outputs": [],
   "source": [
    "success_appt = data[(data.appointment_requested == 't') & (data.appointment_scheduled == 't') & (data.appointment_billed == 't')]"
   ]
  },
  {
   "cell_type": "code",
   "execution_count": 6,
   "metadata": {},
   "outputs": [
    {
     "data": {
      "text/plain": [
       "1171"
      ]
     },
     "execution_count": 6,
     "metadata": {},
     "output_type": "execute_result"
    }
   ],
   "source": [
    "len(success_appt)"
   ]
  },
  {
   "cell_type": "markdown",
   "metadata": {},
   "source": [
    "Here we define a successful appointment"
   ]
  },
  {
   "cell_type": "code",
   "execution_count": 7,
   "metadata": {},
   "outputs": [],
   "source": [
    "success = []\n",
    "for i in range(len(data)):\n",
    "    if (data['appointment_requested'][i] == 't') & (data['appointment_scheduled'][i] == 't') & (data['appointment_billed'][i] == 't'):\n",
    "        success.append(1)\n",
    "    else:\n",
    "        success.append(0)"
   ]
  },
  {
   "cell_type": "code",
   "execution_count": 8,
   "metadata": {},
   "outputs": [],
   "source": [
    "data['success'] = success"
   ]
  },
  {
   "cell_type": "code",
   "execution_count": 9,
   "metadata": {},
   "outputs": [
    {
     "data": {
      "text/html": [
       "<div>\n",
       "<style scoped>\n",
       "    .dataframe tbody tr th:only-of-type {\n",
       "        vertical-align: middle;\n",
       "    }\n",
       "\n",
       "    .dataframe tbody tr th {\n",
       "        vertical-align: top;\n",
       "    }\n",
       "\n",
       "    .dataframe thead th {\n",
       "        text-align: right;\n",
       "    }\n",
       "</style>\n",
       "<table border=\"1\" class=\"dataframe\">\n",
       "  <thead>\n",
       "    <tr style=\"text-align: right;\">\n",
       "      <th></th>\n",
       "      <th>source</th>\n",
       "      <th>campaign</th>\n",
       "      <th>region</th>\n",
       "      <th>locality</th>\n",
       "      <th>preferred_doctor_gender</th>\n",
       "      <th>dental_anxiety</th>\n",
       "      <th>last_visited_a_dentist</th>\n",
       "      <th>how_soon_they_want_to_book</th>\n",
       "      <th>reason_for_visit</th>\n",
       "      <th>patient_insured</th>\n",
       "      <th>...</th>\n",
       "      <th>out_network_results_shown</th>\n",
       "      <th>in_network_results_shown</th>\n",
       "      <th>avg_distance_overall</th>\n",
       "      <th>appointment_requested</th>\n",
       "      <th>appointment_status</th>\n",
       "      <th>appointment_scheduled</th>\n",
       "      <th>appointment_billed</th>\n",
       "      <th>chosen_provider_insurance_status</th>\n",
       "      <th>chosen_provider_distance</th>\n",
       "      <th>success</th>\n",
       "    </tr>\n",
       "  </thead>\n",
       "  <tbody>\n",
       "    <tr>\n",
       "      <th>11928</th>\n",
       "      <td>adwords</td>\n",
       "      <td>search_seattle_metro</td>\n",
       "      <td>Seattle</td>\n",
       "      <td>Federal Way</td>\n",
       "      <td>No Pref</td>\n",
       "      <td>A little nervous</td>\n",
       "      <td>&lt; 1 year</td>\n",
       "      <td>2 weeks</td>\n",
       "      <td>Checkup &amp; Cleaning</td>\n",
       "      <td>f</td>\n",
       "      <td>...</td>\n",
       "      <td>0</td>\n",
       "      <td>0</td>\n",
       "      <td>16859.897360</td>\n",
       "      <td>f</td>\n",
       "      <td>NaN</td>\n",
       "      <td>f</td>\n",
       "      <td>NaN</td>\n",
       "      <td>NaN</td>\n",
       "      <td>NaN</td>\n",
       "      <td>0</td>\n",
       "    </tr>\n",
       "    <tr>\n",
       "      <th>11929</th>\n",
       "      <td>facebook</td>\n",
       "      <td>austin_dentist_patient_acquisition</td>\n",
       "      <td>Austin</td>\n",
       "      <td>Austin</td>\n",
       "      <td>No Pref</td>\n",
       "      <td>Very nervous</td>\n",
       "      <td>2+ years</td>\n",
       "      <td>2 weeks</td>\n",
       "      <td>Urgent Issue</td>\n",
       "      <td>t</td>\n",
       "      <td>...</td>\n",
       "      <td>3</td>\n",
       "      <td>6</td>\n",
       "      <td>11847.073190</td>\n",
       "      <td>t</td>\n",
       "      <td>COMPLETED</td>\n",
       "      <td>t</td>\n",
       "      <td>t</td>\n",
       "      <td>in-network</td>\n",
       "      <td>8075.08515</td>\n",
       "      <td>1</td>\n",
       "    </tr>\n",
       "    <tr>\n",
       "      <th>11930</th>\n",
       "      <td>facebook</td>\n",
       "      <td>san_jose_dentist_patient_acquisition</td>\n",
       "      <td>San Jose</td>\n",
       "      <td>San Jose</td>\n",
       "      <td>No Pref</td>\n",
       "      <td>Moderately nervous</td>\n",
       "      <td>2+ years</td>\n",
       "      <td>No preference</td>\n",
       "      <td>Checkup &amp; Cleaning</td>\n",
       "      <td>t</td>\n",
       "      <td>...</td>\n",
       "      <td>2</td>\n",
       "      <td>1</td>\n",
       "      <td>14258.213170</td>\n",
       "      <td>f</td>\n",
       "      <td>NaN</td>\n",
       "      <td>f</td>\n",
       "      <td>NaN</td>\n",
       "      <td>NaN</td>\n",
       "      <td>NaN</td>\n",
       "      <td>0</td>\n",
       "    </tr>\n",
       "    <tr>\n",
       "      <th>11931</th>\n",
       "      <td>facebook</td>\n",
       "      <td>denver_dentist_patient_acquisition</td>\n",
       "      <td>Denver</td>\n",
       "      <td>Denver</td>\n",
       "      <td>No Pref</td>\n",
       "      <td>A little nervous</td>\n",
       "      <td>&lt; 1 year</td>\n",
       "      <td>More than 2 weeks</td>\n",
       "      <td>Urgent Issue</td>\n",
       "      <td>f</td>\n",
       "      <td>...</td>\n",
       "      <td>0</td>\n",
       "      <td>0</td>\n",
       "      <td>8176.979229</td>\n",
       "      <td>f</td>\n",
       "      <td>NaN</td>\n",
       "      <td>f</td>\n",
       "      <td>NaN</td>\n",
       "      <td>NaN</td>\n",
       "      <td>NaN</td>\n",
       "      <td>0</td>\n",
       "    </tr>\n",
       "    <tr>\n",
       "      <th>11932</th>\n",
       "      <td>facebook</td>\n",
       "      <td>san_francisco_dentist_patient_acquisition</td>\n",
       "      <td>Austin</td>\n",
       "      <td>Fredericksburg</td>\n",
       "      <td>No Pref</td>\n",
       "      <td>Not at all nervous</td>\n",
       "      <td>&lt; 1 year</td>\n",
       "      <td>1 week</td>\n",
       "      <td>Checkup &amp; Cleaning</td>\n",
       "      <td>t</td>\n",
       "      <td>...</td>\n",
       "      <td>0</td>\n",
       "      <td>0</td>\n",
       "      <td>NaN</td>\n",
       "      <td>f</td>\n",
       "      <td>NaN</td>\n",
       "      <td>f</td>\n",
       "      <td>NaN</td>\n",
       "      <td>NaN</td>\n",
       "      <td>NaN</td>\n",
       "      <td>0</td>\n",
       "    </tr>\n",
       "  </tbody>\n",
       "</table>\n",
       "<p>5 rows × 21 columns</p>\n",
       "</div>"
      ],
      "text/plain": [
       "         source                                   campaign    region  \\\n",
       "11928   adwords                       search_seattle_metro   Seattle   \n",
       "11929  facebook         austin_dentist_patient_acquisition    Austin   \n",
       "11930  facebook       san_jose_dentist_patient_acquisition  San Jose   \n",
       "11931  facebook         denver_dentist_patient_acquisition    Denver   \n",
       "11932  facebook  san_francisco_dentist_patient_acquisition    Austin   \n",
       "\n",
       "             locality preferred_doctor_gender      dental_anxiety  \\\n",
       "11928     Federal Way                 No Pref    A little nervous   \n",
       "11929          Austin                 No Pref        Very nervous   \n",
       "11930        San Jose                 No Pref  Moderately nervous   \n",
       "11931          Denver                 No Pref    A little nervous   \n",
       "11932  Fredericksburg                 No Pref  Not at all nervous   \n",
       "\n",
       "      last_visited_a_dentist how_soon_they_want_to_book    reason_for_visit  \\\n",
       "11928               < 1 year                    2 weeks  Checkup & Cleaning   \n",
       "11929               2+ years                    2 weeks        Urgent Issue   \n",
       "11930               2+ years              No preference  Checkup & Cleaning   \n",
       "11931               < 1 year          More than 2 weeks        Urgent Issue   \n",
       "11932               < 1 year                     1 week  Checkup & Cleaning   \n",
       "\n",
       "      patient_insured   ...     out_network_results_shown  \\\n",
       "11928               f   ...                             0   \n",
       "11929               t   ...                             3   \n",
       "11930               t   ...                             2   \n",
       "11931               f   ...                             0   \n",
       "11932               t   ...                             0   \n",
       "\n",
       "       in_network_results_shown  avg_distance_overall  appointment_requested  \\\n",
       "11928                         0          16859.897360                      f   \n",
       "11929                         6          11847.073190                      t   \n",
       "11930                         1          14258.213170                      f   \n",
       "11931                         0           8176.979229                      f   \n",
       "11932                         0                   NaN                      f   \n",
       "\n",
       "      appointment_status appointment_scheduled appointment_billed  \\\n",
       "11928                NaN                     f                NaN   \n",
       "11929          COMPLETED                     t                  t   \n",
       "11930                NaN                     f                NaN   \n",
       "11931                NaN                     f                NaN   \n",
       "11932                NaN                     f                NaN   \n",
       "\n",
       "      chosen_provider_insurance_status chosen_provider_distance  success  \n",
       "11928                              NaN                      NaN        0  \n",
       "11929                       in-network               8075.08515        1  \n",
       "11930                              NaN                      NaN        0  \n",
       "11931                              NaN                      NaN        0  \n",
       "11932                              NaN                      NaN        0  \n",
       "\n",
       "[5 rows x 21 columns]"
      ]
     },
     "execution_count": 9,
     "metadata": {},
     "output_type": "execute_result"
    }
   ],
   "source": [
    "data.tail()"
   ]
  },
  {
   "cell_type": "code",
   "execution_count": 11,
   "metadata": {},
   "outputs": [],
   "source": [
    "data =data.fillna(0)"
   ]
  },
  {
   "cell_type": "code",
   "execution_count": 12,
   "metadata": {},
   "outputs": [
    {
     "data": {
      "text/html": [
       "<div>\n",
       "<style scoped>\n",
       "    .dataframe tbody tr th:only-of-type {\n",
       "        vertical-align: middle;\n",
       "    }\n",
       "\n",
       "    .dataframe tbody tr th {\n",
       "        vertical-align: top;\n",
       "    }\n",
       "\n",
       "    .dataframe thead th {\n",
       "        text-align: right;\n",
       "    }\n",
       "</style>\n",
       "<table border=\"1\" class=\"dataframe\">\n",
       "  <thead>\n",
       "    <tr style=\"text-align: right;\">\n",
       "      <th></th>\n",
       "      <th>source</th>\n",
       "      <th>campaign</th>\n",
       "      <th>region</th>\n",
       "      <th>locality</th>\n",
       "      <th>preferred_doctor_gender</th>\n",
       "      <th>dental_anxiety</th>\n",
       "      <th>last_visited_a_dentist</th>\n",
       "      <th>how_soon_they_want_to_book</th>\n",
       "      <th>reason_for_visit</th>\n",
       "      <th>patient_insured</th>\n",
       "      <th>...</th>\n",
       "      <th>out_network_results_shown</th>\n",
       "      <th>in_network_results_shown</th>\n",
       "      <th>avg_distance_overall</th>\n",
       "      <th>appointment_requested</th>\n",
       "      <th>appointment_status</th>\n",
       "      <th>appointment_scheduled</th>\n",
       "      <th>appointment_billed</th>\n",
       "      <th>chosen_provider_insurance_status</th>\n",
       "      <th>chosen_provider_distance</th>\n",
       "      <th>success</th>\n",
       "    </tr>\n",
       "  </thead>\n",
       "  <tbody>\n",
       "    <tr>\n",
       "      <th>0</th>\n",
       "      <td>facebook</td>\n",
       "      <td>san_diego_dentist_patient_acquisition</td>\n",
       "      <td>San Jose</td>\n",
       "      <td>San Jose</td>\n",
       "      <td>No Pref</td>\n",
       "      <td>A little nervous</td>\n",
       "      <td>&lt; 1 year</td>\n",
       "      <td>ASAP</td>\n",
       "      <td>Specific Treatment</td>\n",
       "      <td>f</td>\n",
       "      <td>...</td>\n",
       "      <td>0</td>\n",
       "      <td>0</td>\n",
       "      <td>10547.219510</td>\n",
       "      <td>f</td>\n",
       "      <td>0</td>\n",
       "      <td>f</td>\n",
       "      <td>0</td>\n",
       "      <td>0</td>\n",
       "      <td>0.000000</td>\n",
       "      <td>0</td>\n",
       "    </tr>\n",
       "    <tr>\n",
       "      <th>1</th>\n",
       "      <td>facebook</td>\n",
       "      <td>san_diego_dentist_patient_acquisition</td>\n",
       "      <td>San Diego</td>\n",
       "      <td>Chula Vista</td>\n",
       "      <td>F</td>\n",
       "      <td>Not at all nervous</td>\n",
       "      <td>2+ years</td>\n",
       "      <td>2 weeks</td>\n",
       "      <td>Checkup &amp; Cleaning</td>\n",
       "      <td>f</td>\n",
       "      <td>...</td>\n",
       "      <td>0</td>\n",
       "      <td>0</td>\n",
       "      <td>20784.617720</td>\n",
       "      <td>f</td>\n",
       "      <td>0</td>\n",
       "      <td>f</td>\n",
       "      <td>0</td>\n",
       "      <td>0</td>\n",
       "      <td>0.000000</td>\n",
       "      <td>0</td>\n",
       "    </tr>\n",
       "    <tr>\n",
       "      <th>2</th>\n",
       "      <td>try.opencare.com</td>\n",
       "      <td>Unknown</td>\n",
       "      <td>Austin</td>\n",
       "      <td>Austin</td>\n",
       "      <td>No Pref</td>\n",
       "      <td>Moderately nervous</td>\n",
       "      <td>2+ years</td>\n",
       "      <td>ASAP</td>\n",
       "      <td>Checkup &amp; Cleaning</td>\n",
       "      <td>t</td>\n",
       "      <td>...</td>\n",
       "      <td>8</td>\n",
       "      <td>1</td>\n",
       "      <td>8014.945931</td>\n",
       "      <td>t</td>\n",
       "      <td>CANCELLED</td>\n",
       "      <td>f</td>\n",
       "      <td>f</td>\n",
       "      <td>in-network</td>\n",
       "      <td>2855.594821</td>\n",
       "      <td>0</td>\n",
       "    </tr>\n",
       "    <tr>\n",
       "      <th>3</th>\n",
       "      <td>facebook</td>\n",
       "      <td>denver_dentist_patient_acquisition</td>\n",
       "      <td>Denver</td>\n",
       "      <td>Golden</td>\n",
       "      <td>No Pref</td>\n",
       "      <td>Not at all nervous</td>\n",
       "      <td>&lt; 1 year</td>\n",
       "      <td>ASAP</td>\n",
       "      <td>Specific Treatment</td>\n",
       "      <td>t</td>\n",
       "      <td>...</td>\n",
       "      <td>2</td>\n",
       "      <td>6</td>\n",
       "      <td>16651.158750</td>\n",
       "      <td>f</td>\n",
       "      <td>0</td>\n",
       "      <td>f</td>\n",
       "      <td>0</td>\n",
       "      <td>0</td>\n",
       "      <td>0.000000</td>\n",
       "      <td>0</td>\n",
       "    </tr>\n",
       "    <tr>\n",
       "      <th>4</th>\n",
       "      <td>facebook</td>\n",
       "      <td>chicago_dentist_patient_acquisition</td>\n",
       "      <td>Chicago</td>\n",
       "      <td>Chicago</td>\n",
       "      <td>F</td>\n",
       "      <td>Not at all nervous</td>\n",
       "      <td>&lt; 1 year</td>\n",
       "      <td>1 week</td>\n",
       "      <td>Checkup &amp; Cleaning</td>\n",
       "      <td>f</td>\n",
       "      <td>...</td>\n",
       "      <td>0</td>\n",
       "      <td>0</td>\n",
       "      <td>5216.934559</td>\n",
       "      <td>f</td>\n",
       "      <td>0</td>\n",
       "      <td>f</td>\n",
       "      <td>0</td>\n",
       "      <td>0</td>\n",
       "      <td>0.000000</td>\n",
       "      <td>0</td>\n",
       "    </tr>\n",
       "  </tbody>\n",
       "</table>\n",
       "<p>5 rows × 21 columns</p>\n",
       "</div>"
      ],
      "text/plain": [
       "             source                               campaign     region  \\\n",
       "0          facebook  san_diego_dentist_patient_acquisition   San Jose   \n",
       "1          facebook  san_diego_dentist_patient_acquisition  San Diego   \n",
       "2  try.opencare.com                                Unknown     Austin   \n",
       "3          facebook     denver_dentist_patient_acquisition     Denver   \n",
       "4          facebook    chicago_dentist_patient_acquisition    Chicago   \n",
       "\n",
       "      locality preferred_doctor_gender      dental_anxiety  \\\n",
       "0     San Jose                 No Pref    A little nervous   \n",
       "1  Chula Vista                       F  Not at all nervous   \n",
       "2       Austin                 No Pref  Moderately nervous   \n",
       "3       Golden                 No Pref  Not at all nervous   \n",
       "4      Chicago                       F  Not at all nervous   \n",
       "\n",
       "  last_visited_a_dentist how_soon_they_want_to_book    reason_for_visit  \\\n",
       "0               < 1 year                       ASAP  Specific Treatment   \n",
       "1               2+ years                    2 weeks  Checkup & Cleaning   \n",
       "2               2+ years                       ASAP  Checkup & Cleaning   \n",
       "3               < 1 year                       ASAP  Specific Treatment   \n",
       "4               < 1 year                     1 week  Checkup & Cleaning   \n",
       "\n",
       "  patient_insured   ...     out_network_results_shown  \\\n",
       "0               f   ...                             0   \n",
       "1               f   ...                             0   \n",
       "2               t   ...                             8   \n",
       "3               t   ...                             2   \n",
       "4               f   ...                             0   \n",
       "\n",
       "   in_network_results_shown  avg_distance_overall  appointment_requested  \\\n",
       "0                         0          10547.219510                      f   \n",
       "1                         0          20784.617720                      f   \n",
       "2                         1           8014.945931                      t   \n",
       "3                         6          16651.158750                      f   \n",
       "4                         0           5216.934559                      f   \n",
       "\n",
       "  appointment_status appointment_scheduled appointment_billed  \\\n",
       "0                  0                     f                  0   \n",
       "1                  0                     f                  0   \n",
       "2          CANCELLED                     f                  f   \n",
       "3                  0                     f                  0   \n",
       "4                  0                     f                  0   \n",
       "\n",
       "  chosen_provider_insurance_status chosen_provider_distance  success  \n",
       "0                                0                 0.000000        0  \n",
       "1                                0                 0.000000        0  \n",
       "2                       in-network              2855.594821        0  \n",
       "3                                0                 0.000000        0  \n",
       "4                                0                 0.000000        0  \n",
       "\n",
       "[5 rows x 21 columns]"
      ]
     },
     "execution_count": 12,
     "metadata": {},
     "output_type": "execute_result"
    }
   ],
   "source": [
    "data.head()"
   ]
  },
  {
   "cell_type": "markdown",
   "metadata": {},
   "source": [
    "In order to model our categorical features, we must first identify them (they will have dtypes = object) and then create a dictionary where each unique object is given a number"
   ]
  },
  {
   "cell_type": "code",
   "execution_count": 13,
   "metadata": {
    "scrolled": false
   },
   "outputs": [
    {
     "data": {
      "text/plain": [
       "['source',\n",
       " 'campaign',\n",
       " 'region',\n",
       " 'locality',\n",
       " 'preferred_doctor_gender',\n",
       " 'dental_anxiety',\n",
       " 'last_visited_a_dentist',\n",
       " 'how_soon_they_want_to_book',\n",
       " 'reason_for_visit',\n",
       " 'patient_insured',\n",
       " 'appointment_requested',\n",
       " 'appointment_status',\n",
       " 'appointment_scheduled',\n",
       " 'appointment_billed',\n",
       " 'chosen_provider_insurance_status']"
      ]
     },
     "execution_count": 13,
     "metadata": {},
     "output_type": "execute_result"
    }
   ],
   "source": [
    "cat_features = list(data.columns[data.dtypes == 'object'])\n",
    "cat_features"
   ]
  },
  {
   "cell_type": "code",
   "execution_count": 14,
   "metadata": {},
   "outputs": [],
   "source": [
    "cat_dict = {}\n",
    "\n",
    "for col in cat_features:\n",
    "    cat_dict[col] = {}\n",
    "    count = 0\n",
    "    for label in list(data[col].unique()):\n",
    "        cat_dict[col][label] = count\n",
    "        count += 1\n",
    "    \n",
    "def convert_cat(col, label):\n",
    "    return (cat_dict[col][label])\n",
    "\n",
    "for col in cat_features:\n",
    "    data[col] = data[col].apply(lambda x: convert_cat(col,x))"
   ]
  },
  {
   "cell_type": "code",
   "execution_count": 15,
   "metadata": {},
   "outputs": [
    {
     "data": {
      "text/html": [
       "<div>\n",
       "<style scoped>\n",
       "    .dataframe tbody tr th:only-of-type {\n",
       "        vertical-align: middle;\n",
       "    }\n",
       "\n",
       "    .dataframe tbody tr th {\n",
       "        vertical-align: top;\n",
       "    }\n",
       "\n",
       "    .dataframe thead th {\n",
       "        text-align: right;\n",
       "    }\n",
       "</style>\n",
       "<table border=\"1\" class=\"dataframe\">\n",
       "  <thead>\n",
       "    <tr style=\"text-align: right;\">\n",
       "      <th></th>\n",
       "      <th>source</th>\n",
       "      <th>campaign</th>\n",
       "      <th>region</th>\n",
       "      <th>locality</th>\n",
       "      <th>preferred_doctor_gender</th>\n",
       "      <th>dental_anxiety</th>\n",
       "      <th>last_visited_a_dentist</th>\n",
       "      <th>how_soon_they_want_to_book</th>\n",
       "      <th>reason_for_visit</th>\n",
       "      <th>patient_insured</th>\n",
       "      <th>...</th>\n",
       "      <th>out_network_results_shown</th>\n",
       "      <th>in_network_results_shown</th>\n",
       "      <th>avg_distance_overall</th>\n",
       "      <th>appointment_requested</th>\n",
       "      <th>appointment_status</th>\n",
       "      <th>appointment_scheduled</th>\n",
       "      <th>appointment_billed</th>\n",
       "      <th>chosen_provider_insurance_status</th>\n",
       "      <th>chosen_provider_distance</th>\n",
       "      <th>success</th>\n",
       "    </tr>\n",
       "  </thead>\n",
       "  <tbody>\n",
       "    <tr>\n",
       "      <th>0</th>\n",
       "      <td>0</td>\n",
       "      <td>0</td>\n",
       "      <td>0</td>\n",
       "      <td>0</td>\n",
       "      <td>0</td>\n",
       "      <td>0</td>\n",
       "      <td>0</td>\n",
       "      <td>0</td>\n",
       "      <td>0</td>\n",
       "      <td>0</td>\n",
       "      <td>...</td>\n",
       "      <td>0</td>\n",
       "      <td>0</td>\n",
       "      <td>10547.219510</td>\n",
       "      <td>0</td>\n",
       "      <td>0</td>\n",
       "      <td>0</td>\n",
       "      <td>0</td>\n",
       "      <td>0</td>\n",
       "      <td>0.000000</td>\n",
       "      <td>0</td>\n",
       "    </tr>\n",
       "    <tr>\n",
       "      <th>1</th>\n",
       "      <td>0</td>\n",
       "      <td>0</td>\n",
       "      <td>1</td>\n",
       "      <td>1</td>\n",
       "      <td>1</td>\n",
       "      <td>1</td>\n",
       "      <td>1</td>\n",
       "      <td>1</td>\n",
       "      <td>1</td>\n",
       "      <td>0</td>\n",
       "      <td>...</td>\n",
       "      <td>0</td>\n",
       "      <td>0</td>\n",
       "      <td>20784.617720</td>\n",
       "      <td>0</td>\n",
       "      <td>0</td>\n",
       "      <td>0</td>\n",
       "      <td>0</td>\n",
       "      <td>0</td>\n",
       "      <td>0.000000</td>\n",
       "      <td>0</td>\n",
       "    </tr>\n",
       "    <tr>\n",
       "      <th>2</th>\n",
       "      <td>1</td>\n",
       "      <td>1</td>\n",
       "      <td>2</td>\n",
       "      <td>2</td>\n",
       "      <td>0</td>\n",
       "      <td>2</td>\n",
       "      <td>1</td>\n",
       "      <td>0</td>\n",
       "      <td>1</td>\n",
       "      <td>1</td>\n",
       "      <td>...</td>\n",
       "      <td>8</td>\n",
       "      <td>1</td>\n",
       "      <td>8014.945931</td>\n",
       "      <td>1</td>\n",
       "      <td>1</td>\n",
       "      <td>0</td>\n",
       "      <td>1</td>\n",
       "      <td>1</td>\n",
       "      <td>2855.594821</td>\n",
       "      <td>0</td>\n",
       "    </tr>\n",
       "    <tr>\n",
       "      <th>3</th>\n",
       "      <td>0</td>\n",
       "      <td>2</td>\n",
       "      <td>3</td>\n",
       "      <td>3</td>\n",
       "      <td>0</td>\n",
       "      <td>1</td>\n",
       "      <td>0</td>\n",
       "      <td>0</td>\n",
       "      <td>0</td>\n",
       "      <td>1</td>\n",
       "      <td>...</td>\n",
       "      <td>2</td>\n",
       "      <td>6</td>\n",
       "      <td>16651.158750</td>\n",
       "      <td>0</td>\n",
       "      <td>0</td>\n",
       "      <td>0</td>\n",
       "      <td>0</td>\n",
       "      <td>0</td>\n",
       "      <td>0.000000</td>\n",
       "      <td>0</td>\n",
       "    </tr>\n",
       "    <tr>\n",
       "      <th>4</th>\n",
       "      <td>0</td>\n",
       "      <td>3</td>\n",
       "      <td>4</td>\n",
       "      <td>4</td>\n",
       "      <td>1</td>\n",
       "      <td>1</td>\n",
       "      <td>0</td>\n",
       "      <td>2</td>\n",
       "      <td>1</td>\n",
       "      <td>0</td>\n",
       "      <td>...</td>\n",
       "      <td>0</td>\n",
       "      <td>0</td>\n",
       "      <td>5216.934559</td>\n",
       "      <td>0</td>\n",
       "      <td>0</td>\n",
       "      <td>0</td>\n",
       "      <td>0</td>\n",
       "      <td>0</td>\n",
       "      <td>0.000000</td>\n",
       "      <td>0</td>\n",
       "    </tr>\n",
       "  </tbody>\n",
       "</table>\n",
       "<p>5 rows × 21 columns</p>\n",
       "</div>"
      ],
      "text/plain": [
       "   source  campaign  region  locality  preferred_doctor_gender  \\\n",
       "0       0         0       0         0                        0   \n",
       "1       0         0       1         1                        1   \n",
       "2       1         1       2         2                        0   \n",
       "3       0         2       3         3                        0   \n",
       "4       0         3       4         4                        1   \n",
       "\n",
       "   dental_anxiety  last_visited_a_dentist  how_soon_they_want_to_book  \\\n",
       "0               0                       0                           0   \n",
       "1               1                       1                           1   \n",
       "2               2                       1                           0   \n",
       "3               1                       0                           0   \n",
       "4               1                       0                           2   \n",
       "\n",
       "   reason_for_visit  patient_insured   ...     out_network_results_shown  \\\n",
       "0                 0                0   ...                             0   \n",
       "1                 1                0   ...                             0   \n",
       "2                 1                1   ...                             8   \n",
       "3                 0                1   ...                             2   \n",
       "4                 1                0   ...                             0   \n",
       "\n",
       "   in_network_results_shown  avg_distance_overall  appointment_requested  \\\n",
       "0                         0          10547.219510                      0   \n",
       "1                         0          20784.617720                      0   \n",
       "2                         1           8014.945931                      1   \n",
       "3                         6          16651.158750                      0   \n",
       "4                         0           5216.934559                      0   \n",
       "\n",
       "   appointment_status  appointment_scheduled  appointment_billed  \\\n",
       "0                   0                      0                   0   \n",
       "1                   0                      0                   0   \n",
       "2                   1                      0                   1   \n",
       "3                   0                      0                   0   \n",
       "4                   0                      0                   0   \n",
       "\n",
       "   chosen_provider_insurance_status  chosen_provider_distance  success  \n",
       "0                                 0                  0.000000        0  \n",
       "1                                 0                  0.000000        0  \n",
       "2                                 1               2855.594821        0  \n",
       "3                                 0                  0.000000        0  \n",
       "4                                 0                  0.000000        0  \n",
       "\n",
       "[5 rows x 21 columns]"
      ]
     },
     "execution_count": 15,
     "metadata": {},
     "output_type": "execute_result"
    }
   ],
   "source": [
    "data.head()"
   ]
  },
  {
   "cell_type": "code",
   "execution_count": 17,
   "metadata": {
    "scrolled": false
   },
   "outputs": [
    {
     "data": {
      "text/plain": [
       "Index(['source', 'campaign', 'region', 'locality', 'preferred_doctor_gender',\n",
       "       'dental_anxiety', 'last_visited_a_dentist',\n",
       "       'how_soon_they_want_to_book', 'reason_for_visit', 'patient_insured',\n",
       "       'number_of_match_results', 'out_network_results_shown',\n",
       "       'in_network_results_shown', 'avg_distance_overall',\n",
       "       'appointment_requested', 'appointment_status', 'appointment_scheduled',\n",
       "       'appointment_billed', 'chosen_provider_insurance_status',\n",
       "       'chosen_provider_distance', 'success'],\n",
       "      dtype='object')"
      ]
     },
     "execution_count": 17,
     "metadata": {},
     "output_type": "execute_result"
    }
   ],
   "source": [
    "data.columns"
   ]
  },
  {
   "cell_type": "markdown",
   "metadata": {},
   "source": [
    "Now that we have our columns, we separate our data into target and features"
   ]
  },
  {
   "cell_type": "code",
   "execution_count": 18,
   "metadata": {},
   "outputs": [],
   "source": [
    "X = data[['source', 'campaign', 'region', 'locality', 'preferred_doctor_gender',\n",
    "       'dental_anxiety', 'last_visited_a_dentist',\n",
    "       'how_soon_they_want_to_book', 'reason_for_visit', 'patient_insured',\n",
    "       'number_of_match_results', 'out_network_results_shown',\n",
    "       'in_network_results_shown', 'avg_distance_overall']]\n",
    "y = data['success']"
   ]
  },
  {
   "cell_type": "code",
   "execution_count": 19,
   "metadata": {},
   "outputs": [],
   "source": [
    "from sklearn.linear_model import (LinearRegression, Ridge, \n",
    "                                  Lasso, RandomizedLasso)\n",
    "from sklearn.feature_selection import RFE, f_regression\n",
    "from sklearn.preprocessing import MinMaxScaler\n",
    "from sklearn.ensemble import RandomForestRegressor\n",
    "import numpy as np"
   ]
  },
  {
   "cell_type": "markdown",
   "metadata": {},
   "source": [
    "Now we create a function to test out some machine learning, and optimize parameters"
   ]
  },
  {
   "cell_type": "code",
   "execution_count": 20,
   "metadata": {},
   "outputs": [],
   "source": [
    "# Create function to return the results of machine learning tests\n",
    "def ml_classification_tests(X, y, num_cols=X.shape[1]):\n",
    "    \n",
    "    # Split into training and test set\n",
    "    X_train, X_test, y_train, y_test = train_test_split(X, y)\n",
    "    \n",
    "    #------------------------------------------------------------------------\n",
    "    \n",
    "    # NAIVE BAYES\n",
    "    print('Naive Bayes')\n",
    "    \n",
    "    #the grid of parameters to search over\n",
    "    alphas = [0.001, 0.01, .1, 1, 5]\n",
    "    \n",
    "    param_grid = {'alpha': alphas}\n",
    "    \n",
    "    # Create a multinomial classifier\n",
    "    mnb = MultinomialNB()\n",
    "    \n",
    "    mnb_cv = GridSearchCV(mnb, param_grid, cv=5)\n",
    "    \n",
    "    # Fit the classifier to the data\n",
    "    mnb_cv.fit(X_train, y_train)\n",
    "    \n",
    "    # Print the tuned parameters and score\n",
    "    print(\"Best Naive Bayes alpha: {}\".format(mnb_cv.best_params_)) \n",
    "    print(\"Best Naive Bayes score: {}\".format(mnb_cv.best_score_))\n",
    "    \n",
    "    # Predict the labels of the test set: y_pred\n",
    "    y_pred = mnb_cv.predict(X_test)\n",
    "\n",
    "    # Compute and print the confusion matrix and classification report\n",
    "    print('Confusion Matrix:', confusion_matrix(y_test, y_pred))\n",
    "    print('Classification Report:', classification_report(y_test, y_pred))\n",
    "    \n",
    "    #------------------------------------------------------------------------\n",
    "    \n",
    "    # RANDOM FORESTS\n",
    "    print('\\nRandom Forests')\n",
    "    \n",
    "    # Number of features to consider at every split\n",
    "    max_features = [1, 2, 3, 4, 5]\n",
    "    # Maximum number of levels in tree\n",
    "    max_depth = [int(x) for x in np.linspace(10, 100, num = 10)]\n",
    "    max_depth.append(None)\n",
    "    # Minimum number of samples required to split a node\n",
    "    min_samples_split = [2, 5, 10]\n",
    "    # Minimum number of samples required at each leaf node\n",
    "    min_samples_leaf = [1, 2, 4, 6, 9]\n",
    "    # Method of selecting samples for training each tree\n",
    "    bootstrap = [True, False]\n",
    "    # Create the random grid\n",
    "    random_grid = {'max_features': max_features,\n",
    "               'max_depth': max_depth,\n",
    "               'min_samples_split': min_samples_split,\n",
    "               'min_samples_leaf': min_samples_leaf,\n",
    "               'bootstrap': bootstrap}    \n",
    "    \n",
    "    # Instantiate a Random Forest Classifier\n",
    "    rfc = RandomForestClassifier(n_estimators=250)\n",
    "    \n",
    "    # Instantiate RandomizedSearchCV\n",
    "    rf_random = RandomizedSearchCV(estimator = rfc, param_distributions = random_grid, cv = 5, n_jobs = -1, n_iter=12)\n",
    "    \n",
    "    # Fit the random search model\n",
    "    rf_random.fit(X_train, y_train)\n",
    "    \n",
    "    # Print the tuned parameters and score\n",
    "    print(\"Tuned Random Forest Parameters: {}\".format(rf_random.best_params_))\n",
    "    print(\"Best Random Forest score: {}\".format(rf_random.best_score_))\n",
    "    \n",
    "    # Predict the labels of the test set: y_pred\n",
    "    y_pred = rf_random.predict(X_test)\n",
    "\n",
    "    # Compute and print the confusion matrix and classification report\n",
    "    print('Confusion Matrix:', confusion_matrix(y_test, y_pred))\n",
    "    print('Classification Report:', classification_report(y_test, y_pred))\n",
    "\n",
    "    #------------------------------------------------------------------------\n",
    "    "
   ]
  },
  {
   "cell_type": "code",
   "execution_count": 21,
   "metadata": {},
   "outputs": [
    {
     "name": "stdout",
     "output_type": "stream",
     "text": [
      "Naive Bayes\n",
      "Best Naive Bayes alpha: {'alpha': 5}\n",
      "Best Naive Bayes score: 0.3538942898647894\n",
      "Confusion Matrix: [[ 832 1855]\n",
      " [  44  253]]\n",
      "Classification Report:               precision    recall  f1-score   support\n",
      "\n",
      "           0       0.95      0.31      0.47      2687\n",
      "           1       0.12      0.85      0.21       297\n",
      "\n",
      "   micro avg       0.36      0.36      0.36      2984\n",
      "   macro avg       0.53      0.58      0.34      2984\n",
      "weighted avg       0.87      0.36      0.44      2984\n",
      "\n",
      "\n",
      "Random Forests\n",
      "Tuned Random Forest Parameters: {'min_samples_split': 5, 'min_samples_leaf': 6, 'max_features': 4, 'max_depth': 90, 'bootstrap': False}\n",
      "Best Random Forest score: 0.903117666778411\n",
      "Confusion Matrix: [[2680    7]\n",
      " [ 290    7]]\n",
      "Classification Report:               precision    recall  f1-score   support\n",
      "\n",
      "           0       0.90      1.00      0.95      2687\n",
      "           1       0.50      0.02      0.05       297\n",
      "\n",
      "   micro avg       0.90      0.90      0.90      2984\n",
      "   macro avg       0.70      0.51      0.50      2984\n",
      "weighted avg       0.86      0.90      0.86      2984\n",
      "\n"
     ]
    }
   ],
   "source": [
    "ml_classification_tests(X,y)"
   ]
  },
  {
   "cell_type": "markdown",
   "metadata": {},
   "source": [
    "We see that our results are not that great. Our data set is quite imbalanced, and this is contributing to the poor performance of the model. We can fix this by using oversampling"
   ]
  },
  {
   "cell_type": "code",
   "execution_count": 22,
   "metadata": {},
   "outputs": [
    {
     "name": "stdout",
     "output_type": "stream",
     "text": [
      "[(0, 10762), (1, 10762)]\n"
     ]
    }
   ],
   "source": [
    "import imblearn\n",
    "from sklearn.datasets import make_classification\n",
    "from imblearn.over_sampling import RandomOverSampler\n",
    "from collections import Counter\n",
    "\n",
    "ros = RandomOverSampler(random_state=0)\n",
    "X_resampled, y_resampled = ros.fit_sample(X,y)\n",
    "print(sorted(Counter(y_resampled).items()))"
   ]
  },
  {
   "cell_type": "code",
   "execution_count": 23,
   "metadata": {},
   "outputs": [
    {
     "name": "stdout",
     "output_type": "stream",
     "text": [
      "Naive Bayes\n",
      "Best Naive Bayes alpha: {'alpha': 0.001}\n",
      "Best Naive Bayes score: 0.5720745834107662\n",
      "Confusion Matrix: [[ 728 1927]\n",
      " [ 357 2369]]\n",
      "Classification Report:               precision    recall  f1-score   support\n",
      "\n",
      "           0       0.67      0.27      0.39      2655\n",
      "           1       0.55      0.87      0.67      2726\n",
      "\n",
      "   micro avg       0.58      0.58      0.58      5381\n",
      "   macro avg       0.61      0.57      0.53      5381\n",
      "weighted avg       0.61      0.58      0.53      5381\n",
      "\n",
      "\n",
      "Random Forests\n",
      "Tuned Random Forest Parameters: {'min_samples_split': 10, 'min_samples_leaf': 1, 'max_features': 3, 'max_depth': 30, 'bootstrap': False}\n",
      "Best Random Forest score: 0.966053397757542\n",
      "Confusion Matrix: [[2538  117]\n",
      " [   7 2719]]\n",
      "Classification Report:               precision    recall  f1-score   support\n",
      "\n",
      "           0       1.00      0.96      0.98      2655\n",
      "           1       0.96      1.00      0.98      2726\n",
      "\n",
      "   micro avg       0.98      0.98      0.98      5381\n",
      "   macro avg       0.98      0.98      0.98      5381\n",
      "weighted avg       0.98      0.98      0.98      5381\n",
      "\n"
     ]
    }
   ],
   "source": [
    "ml_classification_tests(X_resampled, y_resampled)"
   ]
  },
  {
   "cell_type": "markdown",
   "metadata": {},
   "source": [
    "Now that we have a better model, we can use recursive feature elimination to see what features are really driving these results"
   ]
  },
  {
   "cell_type": "code",
   "execution_count": 43,
   "metadata": {},
   "outputs": [
    {
     "name": "stdout",
     "output_type": "stream",
     "text": [
      "Features sorted by their rank:\n",
      "[(1, 'avg_distance_overall'), (2, 'in_network_results_shown'), (3, 'locality'), (4, 'campaign'), (5, 'source'), (6, 'out_network_results_shown'), (7, 'how_soon_they_want_to_book'), (8, 'dental_anxiety'), (9, 'number_of_match_results'), (10, 'last_visited_a_dentist'), (11, 'region'), (12, 'patient_insured'), (13, 'reason_for_visit'), (14, 'preferred_doctor_gender')]\n"
     ]
    }
   ],
   "source": [
    "\n",
    "names = data.keys()\n",
    " \n",
    "#use linear regression as the model\n",
    "rfc = RandomForestClassifier(n_estimators=250,\n",
    "                            min_samples_split = 10,\n",
    "                            min_samples_leaf = 1,\n",
    "                            max_features = 1,\n",
    "                            max_depth = 30,\n",
    "                            bootstrap = False)\n",
    "#rank all features, i.e continue the elimination until the last one\n",
    "rfe = RFE(rfc, n_features_to_select=1)\n",
    "rfe.fit(X_resampled,y_resampled)\n",
    " \n",
    "print (\"Features sorted by their rank:\")\n",
    "print (sorted(zip(map(lambda x: round(x, 4), rfe.ranking_), names)))"
   ]
  },
  {
   "cell_type": "code",
   "execution_count": 25,
   "metadata": {},
   "outputs": [],
   "source": [
    "successful_appt = data[data.success == 1]\n",
    "no_appt = data[data.success == 0]"
   ]
  },
  {
   "cell_type": "code",
   "execution_count": 26,
   "metadata": {},
   "outputs": [
    {
     "data": {
      "image/png": "[encoded data removed]",
      "text/plain": [
       "<Figure size 432x288 with 1 Axes>"
      ]
     },
     "metadata": {
      "needs_background": "light"
     },
     "output_type": "display_data"
    }
   ],
   "source": [
    "apt_success = successful_appt['avg_distance_overall']\n",
    "no_success = no_appt['avg_distance_overall']\n",
    "\n",
    "df = pd.DataFrame({\n",
    "        \"appointment success\" : apt_success, \"no appointment\" : no_success\n",
    "    })\n",
    "\n",
    "\n",
    "ax = df.plot(kind='box')\n",
    "\n",
    "ax.set_ylabel('avg overall distance')\n",
    "\n",
    "plt.show()"
   ]
  },
  {
   "cell_type": "markdown",
   "metadata": {},
   "source": [
    "We know that average distance overall is an important feature in predicting appointment success. The next thing we want to see is if there is a statistically significant difference in the number of successful apointments with lower distances, vs higher distances. Thus, we find the mean avg distance overall (11059) and split the data into 2 groups: High distance, and low distance. Then we run a Ttest to see if the number of successful appointments is statistically significantly greater in one of the groups"
   ]
  },
  {
   "cell_type": "code",
   "execution_count": 46,
   "metadata": {},
   "outputs": [],
   "source": [
    "data1 = pd.read_csv('DS-Take-Home-Sample-Data - DS-Take-Home-Sample-Data.csv')"
   ]
  },
  {
   "cell_type": "code",
   "execution_count": 50,
   "metadata": {},
   "outputs": [],
   "source": [
    "data1['success'] = success"
   ]
  },
  {
   "cell_type": "code",
   "execution_count": 51,
   "metadata": {
    "scrolled": true
   },
   "outputs": [
    {
     "data": {
      "text/plain": [
       "11059.066724220002"
      ]
     },
     "execution_count": 51,
     "metadata": {},
     "output_type": "execute_result"
    }
   ],
   "source": [
    "data1.avg_distance_overall.mean()"
   ]
  },
  {
   "cell_type": "code",
   "execution_count": 52,
   "metadata": {},
   "outputs": [],
   "source": [
    "low_dist = data1[data1.avg_distance_overall <= 11059]\n",
    "high_dist = data1[data1.avg_distance_overall > 11059]"
   ]
  },
  {
   "cell_type": "code",
   "execution_count": 53,
   "metadata": {},
   "outputs": [
    {
     "data": {
      "text/plain": [
       "782"
      ]
     },
     "execution_count": 53,
     "metadata": {},
     "output_type": "execute_result"
    }
   ],
   "source": [
    "low_dist.success.sum()"
   ]
  },
  {
   "cell_type": "code",
   "execution_count": 54,
   "metadata": {},
   "outputs": [
    {
     "data": {
      "text/plain": [
       "389"
      ]
     },
     "execution_count": 54,
     "metadata": {},
     "output_type": "execute_result"
    }
   ],
   "source": [
    "high_dist.success.sum()"
   ]
  },
  {
   "cell_type": "code",
   "execution_count": 55,
   "metadata": {},
   "outputs": [],
   "source": [
    "import scipy.stats"
   ]
  },
  {
   "cell_type": "code",
   "execution_count": 56,
   "metadata": {},
   "outputs": [
    {
     "data": {
      "text/plain": [
       "Ttest_indResult(statistic=11.362442200853213, pvalue=9.308783082055043e-30)"
      ]
     },
     "execution_count": 56,
     "metadata": {},
     "output_type": "execute_result"
    }
   ],
   "source": [
    "scipy.stats.ttest_ind(low_dist['success'], high_dist['success'])"
   ]
  },
  {
   "cell_type": "markdown",
   "metadata": {},
   "source": [
    "We see that there are statistically significantly more successful appointments in the low_dist group and now test to see what the percent change is between the two groups"
   ]
  },
  {
   "cell_type": "code",
   "execution_count": 58,
   "metadata": {},
   "outputs": [
    {
     "data": {
      "text/plain": [
       "101.02827763496146"
      ]
     },
     "execution_count": 58,
     "metadata": {},
     "output_type": "execute_result"
    }
   ],
   "source": [
    "(low_dist.success.sum() - high_dist.success.sum())/high_dist.success.sum() *100"
   ]
  },
  {
   "cell_type": "code",
   "execution_count": 59,
   "metadata": {},
   "outputs": [
    {
     "data": {
      "text/plain": [
       "3.0874884773317692"
      ]
     },
     "execution_count": 59,
     "metadata": {},
     "output_type": "execute_result"
    }
   ],
   "source": [
    "data1.in_network_results_shown.mean()"
   ]
  },
  {
   "cell_type": "code",
   "execution_count": 60,
   "metadata": {},
   "outputs": [],
   "source": [
    "high_innet = data1[data1.in_network_results_shown >= 3]\n",
    "low_innet = data1[data1.in_network_results_shown < 3]"
   ]
  },
  {
   "cell_type": "code",
   "execution_count": 61,
   "metadata": {},
   "outputs": [
    {
     "data": {
      "text/plain": [
       "892"
      ]
     },
     "execution_count": 61,
     "metadata": {},
     "output_type": "execute_result"
    }
   ],
   "source": [
    "high_innet.success.sum()"
   ]
  },
  {
   "cell_type": "code",
   "execution_count": 62,
   "metadata": {},
   "outputs": [
    {
     "data": {
      "text/plain": [
       "279"
      ]
     },
     "execution_count": 62,
     "metadata": {},
     "output_type": "execute_result"
    }
   ],
   "source": [
    "low_innet.success.sum()"
   ]
  },
  {
   "cell_type": "code",
   "execution_count": 63,
   "metadata": {},
   "outputs": [
    {
     "data": {
      "text/plain": [
       "Ttest_indResult(statistic=21.866884526328423, pvalue=5.823308212879889e-104)"
      ]
     },
     "execution_count": 63,
     "metadata": {},
     "output_type": "execute_result"
    }
   ],
   "source": [
    "scipy.stats.ttest_ind(high_innet['success'], low_innet['success'])"
   ]
  },
  {
   "cell_type": "code",
   "execution_count": 66,
   "metadata": {},
   "outputs": [
    {
     "data": {
      "text/plain": [
       "219.71326164874552"
      ]
     },
     "execution_count": 66,
     "metadata": {},
     "output_type": "execute_result"
    }
   ],
   "source": [
    "(high_innet.success.sum() - low_innet.success.sum()) / low_innet.success.sum() *100"
   ]
  },
  {
   "cell_type": "code",
   "execution_count": null,
   "metadata": {},
   "outputs": [],
   "source": []
  },
  {
   "cell_type": "code",
   "execution_count": 28,
   "metadata": {},
   "outputs": [
    {
     "data": {
      "image/png": "[encoded data removed]",
      "text/plain": [
       "<Figure size 432x288 with 1 Axes>"
      ]
     },
     "metadata": {
      "needs_background": "light"
     },
     "output_type": "display_data"
    }
   ],
   "source": [
    "apt_success = successful_appt['in_network_results_shown']\n",
    "no_success = no_appt['in_network_results_shown']\n",
    "\n",
    "df = pd.DataFrame({\n",
    "        \"appointment success\" : apt_success, \"no appointment\" : no_success\n",
    "    })\n",
    "\n",
    "\n",
    "ax = df.plot(kind='box')\n",
    "\n",
    "ax.set_ylabel('in network results shown')\n",
    "\n",
    "plt.show()"
   ]
  },
  {
   "cell_type": "code",
   "execution_count": null,
   "metadata": {},
   "outputs": [],
   "source": []
  },
  {
   "cell_type": "code",
   "execution_count": null,
   "metadata": {},
   "outputs": [],
   "source": []
  },
  {
   "cell_type": "code",
   "execution_count": null,
   "metadata": {},
   "outputs": [],
   "source": []
  },
  {
   "cell_type": "code",
   "execution_count": null,
   "metadata": {},
   "outputs": [],
   "source": []
  },
  {
   "cell_type": "code",
   "execution_count": null,
   "metadata": {},
   "outputs": [],
   "source": []
  },
  {
   "cell_type": "code",
   "execution_count": null,
   "metadata": {},
   "outputs": [],
   "source": []
  },
  {
   "cell_type": "code",
   "execution_count": null,
   "metadata": {},
   "outputs": [],
   "source": []
  },
  {
   "cell_type": "code",
   "execution_count": null,
   "metadata": {},
   "outputs": [],
   "source": []
  },
  {
   "cell_type": "code",
   "execution_count": null,
   "metadata": {},
   "outputs": [],
   "source": []
  },
  {
   "cell_type": "code",
   "execution_count": null,
   "metadata": {},
   "outputs": [],
   "source": []
  }
 ],
 "metadata": {
  "kernelspec": {
   "display_name": "Python 3",
   "language": "python",
   "name": "python3"
  },
  "language_info": {
   "codemirror_mode": {
    "name": "ipython",
    "version": 3
   },
   "file_extension": ".py",
   "mimetype": "text/x-python",
   "name": "python",
   "nbconvert_exporter": "python",
   "pygments_lexer": "ipython3",
   "version": "3.7.0"
  }
 },
 "nbformat": 4,
 "nbformat_minor": 2
}
