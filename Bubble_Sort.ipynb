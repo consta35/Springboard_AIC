{
 "cells": [
  {
   "cell_type": "code",
   "execution_count": 1,
   "metadata": {},
   "outputs": [],
   "source": [
    "str1 = 'adc'\n",
    "str2 = 'egf'"
   ]
  },
  {
   "cell_type": "code",
   "execution_count": 2,
   "metadata": {},
   "outputs": [],
   "source": [
    "def join_sort(a,b):\n",
    "    ans = []\n",
    "    alph = 'abcdefghijklmnopqrstuvwxyz'\n",
    "    check = []\n",
    "    final = []\n",
    "    ans.append(a)\n",
    "    ans.append(b)\n",
    "    ans = ''.join(ans)\n",
    "    for i in ans:\n",
    "        for j in alph:\n",
    "            if i == j:\n",
    "                check.append(alph.index(j))    \n",
    "    for nums in range(len(check)-1,0,-1):\n",
    "        for i in range(nums):\n",
    "            if check[i] > check[i+1]:\n",
    "                temp = check[i]\n",
    "                check[i] = check[i+1]\n",
    "                check[i+1] = temp\n",
    "    \n",
    "    for i in check:\n",
    "        final.append(alph[i])\n",
    "        \n",
    "    return ''.join(final)\n",
    "   \n",
    "            \n",
    "     \n",
    "\n",
    "    \n",
    "     \n",
    "    \n",
    "            \n",
    "   "
   ]
  },
  {
   "cell_type": "code",
   "execution_count": 3,
   "metadata": {
    "scrolled": true
   },
   "outputs": [
    {
     "name": "stdout",
     "output_type": "stream",
     "text": [
      "acdefg\n"
     ]
    }
   ],
   "source": [
    "print(join_sort(str1,str2))"
   ]
  },
  {
   "cell_type": "code",
   "execution_count": null,
   "metadata": {},
   "outputs": [],
   "source": []
  }
 ],
 "metadata": {
  "kernelspec": {
   "display_name": "Python 3",
   "language": "python",
   "name": "python3"
  },
  "language_info": {
   "codemirror_mode": {
    "name": "ipython",
    "version": 3
   },
   "file_extension": ".py",
   "mimetype": "text/x-python",
   "name": "python",
   "nbconvert_exporter": "python",
   "pygments_lexer": "ipython3",
   "version": "3.7.0"
  }
 },
 "nbformat": 4,
 "nbformat_minor": 2
}
